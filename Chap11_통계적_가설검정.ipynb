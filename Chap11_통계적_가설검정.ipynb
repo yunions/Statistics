{
  "nbformat": 4,
  "nbformat_minor": 0,
  "metadata": {
    "colab": {
      "name": "Chap11.통계적_가설검정.ipynb",
      "provenance": [],
      "toc_visible": true,
      "authorship_tag": "ABX9TyOqykO5SQvlOLJbtFPNbfHK",
      "include_colab_link": true
    },
    "kernelspec": {
      "name": "python3",
      "display_name": "Python 3"
    },
    "language_info": {
      "name": "python"
    }
  },
  "cells": [
    {
      "cell_type": "markdown",
      "metadata": {
        "id": "view-in-github",
        "colab_type": "text"
      },
      "source": [
        "<a href=\"https://colab.research.google.com/github/yunions/Statistics/blob/master/Chap11_%ED%86%B5%EA%B3%84%EC%A0%81_%EA%B0%80%EC%84%A4%EA%B2%80%EC%A0%95.ipynb\" target=\"_parent\"><img src=\"https://colab.research.google.com/assets/colab-badge.svg\" alt=\"Open In Colab\"/></a>"
      ]
    },
    {
      "cell_type": "code",
      "metadata": {
        "colab": {
          "base_uri": "https://localhost:8080/"
        },
        "id": "JOGGKXetwgyl",
        "outputId": "55b5db74-7dbf-4e3d-d0e7-823ef8656ef6"
      },
      "source": [
        "! git clone https://github.com/yunions/Statistics.git"
      ],
      "execution_count": 1,
      "outputs": [
        {
          "output_type": "stream",
          "text": [
            "Cloning into 'Statistics'...\n",
            "remote: Enumerating objects: 98, done.\u001b[K\n",
            "remote: Counting objects: 100% (98/98), done.\u001b[K\n",
            "remote: Compressing objects: 100% (88/88), done.\u001b[K\n",
            "remote: Total 98 (delta 39), reused 41 (delta 8), pack-reused 0\u001b[K\n",
            "Unpacking objects: 100% (98/98), done.\n"
          ],
          "name": "stdout"
        }
      ]
    },
    {
      "cell_type": "code",
      "metadata": {
        "id": "Y8s56Hevw8Vu"
      },
      "source": [
        "import numpy as np\n",
        "import pandas as pd\n",
        "from scipy import stats\n",
        "from scipy.special import erf\n",
        "import matplotlib.pyplot as plt\n",
        "\n",
        "%precision 3\n",
        "np.random.seed(1111)\n",
        "plt.style.use('default')\n",
        "plt.rcParams['figure.figsize'] = (8, 5)\n",
        "plt.rcParams['font.size'] = 12\n",
        "plt.rcParams['lines.linewidth'] = 3"
      ],
      "execution_count": 2,
      "outputs": []
    },
    {
      "cell_type": "markdown",
      "metadata": {
        "id": "SWfkHb91xGCb"
      },
      "source": [
        "# 11. 통계적 가설검정"
      ]
    },
    {
      "cell_type": "markdown",
      "metadata": {
        "id": "GJ0Dcg62xILZ"
      },
      "source": [
        "## 11.1 통계적 가설검정(Statistical hypothesis testing)\n",
        "- **방법** </br>\n",
        "1. 모집단의 모수에 관한 두 가지 가설(귀무가설, 대립가설) 설정</br>\n",
        "2. 표본으로부터 통계량 계산</br>\n",
        "3. 어느 가설이 옳은지 판단</br>"
      ]
    },
    {
      "cell_type": "markdown",
      "metadata": {
        "id": "SmWfCT9aEQF7"
      },
      "source": [
        "<img src = 'https://github.com/yunions/Statistics/blob/master/image/confidence_interval.PNG?raw=true'>"
      ]
    },
    {
      "cell_type": "markdown",
      "metadata": {
        "id": "NJlGRT9uxxnq"
      },
      "source": [
        "### 11.1.1 통계적 가설검정의 기본\n",
        "<img src = 'https://github.com/yunions/Statistics/blob/master/image/how_to_check_mean.PNG?raw=true'>"
      ]
    },
    {
      "cell_type": "code",
      "metadata": {
        "colab": {
          "base_uri": "https://localhost:8080/"
        },
        "id": "URgNhYMpw-MO",
        "outputId": "0923f9bd-c858-41ac-ca97-5ccc3266833e"
      },
      "source": [
        "#sample(n=14)\n",
        "df = pd.read_csv('/content/Statistics/data/ch11_potato.csv')\n",
        "sample = np.array(df['무게'])\n",
        "s_mean = np.mean(sample)\n",
        "print(f'sample = {sample}\\nn = {len(sample)}, sample mean = {s_mean : .3f}')"
      ],
      "execution_count": 3,
      "outputs": [
        {
          "output_type": "stream",
          "text": [
            "sample = [122.02 131.73 130.6  131.82 132.05 126.12 124.43 132.89 122.79 129.95\n",
            " 126.14 134.45 127.64 125.68]\n",
            "n = 14, sample mean =  128.451\n"
          ],
          "name": "stdout"
        }
      ]
    },
    {
      "cell_type": "code",
      "metadata": {
        "colab": {
          "base_uri": "https://localhost:8080/"
        },
        "id": "LB6guGeex7sA",
        "outputId": "d7289346-9105-43f0-c07f-7cadf493284f"
      },
      "source": [
        "# a = 0.05\n",
        "mu = 130\n",
        "sigma = 9/14\n",
        "rv = stats.norm(mu, np.sqrt(sigma)) #표본평균의 분포\n",
        "lcl = rv.isf(0.95) #LCL 생성\n",
        "lcl"
      ],
      "execution_count": 4,
      "outputs": [
        {
          "output_type": "execute_result",
          "data": {
            "text/plain": [
              "128.681"
            ]
          },
          "metadata": {
            "tags": []
          },
          "execution_count": 4
        }
      ]
    },
    {
      "cell_type": "code",
      "metadata": {
        "colab": {
          "base_uri": "https://localhost:8080/",
          "height": 473
        },
        "id": "_8uyGFIj2L31",
        "outputId": "b6acccb7-7b18-4da5-8d9e-8b1ef83d931a"
      },
      "source": [
        "x = np.linspace(mu - 5*sigma, mu + 5*sigma, 1000)\n",
        "y = rv.pdf(x)\n",
        "#y_cum = 0.5 * (1 + erf((x - mu)/(np.sqrt(2 * sigma**2))))\n",
        "plt.scatter(s_mean,0, c = 'red', label= 'Sample mean') #sample의 위치\n",
        "plt.axvline(x = lcl, ymin=0, ymax= rv.pdf(lcl) + 0.2, c = 'green', label= 'LCL')\n",
        "plt.plot(x, y, alpha=0.7, label='PDF of N(130, 9/14)')\n",
        "lcl_range = np.linspace(mu - 5*sigma, lcl, 100)\n",
        "plt.fill_between(lcl_range, y1= rv.pdf(lcl_range), alpha=0.5, label = 'α')\n",
        "x_range = np.linspace(mu - 5*sigma, s_mean, 100)\n",
        "plt.fill_between(x_range, y1= rv.pdf(x_range), alpha=0.5, label = 'p-value') \n",
        "plt.xlabel('x')\n",
        "plt.ylabel('f(x)')\n",
        "plt.legend(loc='upper left')\n",
        "plt.show()"
      ],
      "execution_count": 5,
      "outputs": [
        {
          "output_type": "display_data",
          "data": {
            "image/png": "[encoded data removed]",
            "text/plain": [
              "<Figure size 800x500 with 1 Axes>"
            ]
          },
          "metadata": {
            "tags": []
          }
        }
      ]
    },
    {
      "cell_type": "code",
      "metadata": {
        "colab": {
          "base_uri": "https://localhost:8080/"
        },
        "id": "OBM1WfY_GVpi",
        "outputId": "94996d88-1987-431e-c934-6a882ea74001"
      },
      "source": [
        "# a = 0.05\n",
        "std_mu = 0\n",
        "std_sigma = 1\n",
        "rv_z = stats.norm(std_mu, np.sqrt(std_sigma)) #표본평균의 분포\n",
        "lcl_z = rv_z.isf(0.95) #LCL 생성\n",
        "lcl"
      ],
      "execution_count": 6,
      "outputs": [
        {
          "output_type": "execute_result",
          "data": {
            "text/plain": [
              "128.681"
            ]
          },
          "metadata": {
            "tags": []
          },
          "execution_count": 6
        }
      ]
    },
    {
      "cell_type": "code",
      "metadata": {
        "colab": {
          "base_uri": "https://localhost:8080/",
          "height": 473
        },
        "id": "c3gQaCTR9dZ0",
        "outputId": "f8e8c3b0-5a34-4de6-9767-0b008e16c56b"
      },
      "source": [
        "x = np.linspace(std_mu - 5*std_sigma, std_mu + 5*std_sigma, 1000)\n",
        "y = rv_z.pdf(x)\n",
        "z = (s_mean - 130) / np.sqrt(9/14) # standardization\n",
        "#y_cum = 0.5 * (1 + erf((x - mu)/(np.sqrt(2 * sigma**2))))\n",
        "plt.scatter(z,0, c = 'red', label= 'Sample mean') #sample의 위치\n",
        "plt.axvline(x = lcl_z, ymin=0, ymax= rv.pdf(lcl_z) + 0.3, c = 'green', label= 'LCL')\n",
        "x_range = np.linspace(std_mu - 5*std_sigma, lcl_z, 100)\n",
        "plt.fill_between(x_range, y1= rv_z.pdf(x_range), alpha=0.5, label = 'p-value') \n",
        "plt.plot(x, y, alpha=0.7, label='PDF of Z(0, 1)')\n",
        "plt.xlabel('x')\n",
        "plt.ylabel('f(x)')\n",
        "plt.legend(loc='upper left')\n",
        "plt.show()"
      ],
      "execution_count": 7,
      "outputs": [
        {
          "output_type": "display_data",
          "data": {
            "image/png": "[encoded data removed]",
            "text/plain": [
              "<Figure size 800x500 with 1 Axes>"
            ]
          },
          "metadata": {
            "tags": []
          }
        }
      ]
    },
    {
      "cell_type": "markdown",
      "metadata": {
        "id": "nj7px3ubCjTW"
      },
      "source": [
        "### 11.1.2 가설검정의 두 가지 오류\n",
        "- 제 1종 오류(α) : 귀무가설이 옳을 때, 귀무가설을 기각하는 오류</br>\n",
        "α = 위험률 : 분석가가 제어할 수 있는 확률(유의수준)\n",
        "- 제 2종 오류(β) : 대립가설이 옳을 때, 귀무가설을 채택하는 오류</br>\n",
        "(1-β) = 검정력 : 분석가가 제어할 수 없는 확률(모집단에 의해서 결정)\n",
        "<img src = 'https://www.nbshare.io/static/snapshots/cm_colored_1-min.png'>"
      ]
    },
    {
      "cell_type": "code",
      "metadata": {
        "colab": {
          "base_uri": "https://localhost:8080/"
        },
        "id": "BSTra-8jMHcU",
        "outputId": "b82bd1c0-0765-43ab-9433-70732199c44d"
      },
      "source": [
        "#제 1종 오류의 상황 = 평균이 130인데, 이것보다 작다고 판단\n",
        "rv = stats.norm(130, 3) # N(130, 9)\n",
        "\n",
        "c = stats.norm().isf(0.95) #N(0,1) alpha = 0.05\n",
        "n_samples = 10000 #10000번 수행\n",
        "cnt = 0\n",
        "for _ in range(n_samples): #10000번 수행\n",
        "    sample_ = np.round(rv.rvs(14), 2) #n=14인 샘플링 진행\n",
        "    s_mean_ = np.mean(sample_) #샘플의 평균\n",
        "    z = (s_mean_ - 130) / np.sqrt(9/14)\n",
        "    if z < c: #LCL밖인지 확인\n",
        "        cnt += 1\n",
        "cnt / n_samples #제 1종 오류를 범할 확률"
      ],
      "execution_count": 8,
      "outputs": [
        {
          "output_type": "execute_result",
          "data": {
            "text/plain": [
              "0.053"
            ]
          },
          "metadata": {
            "tags": []
          },
          "execution_count": 8
        }
      ]
    },
    {
      "cell_type": "code",
      "metadata": {
        "colab": {
          "base_uri": "https://localhost:8080/"
        },
        "id": "bGPdsRRUMX7d",
        "outputId": "74a8dea6-79de-44ba-a685-bdc91a99d57f"
      },
      "source": [
        "#제 2종 오류의 상황 = 모평균이 130보다 작은데 130이라고 판단\n",
        "rv = stats.norm(128, 3) #모집단이 128\n",
        "\n",
        "c = stats.norm().isf(0.95)\n",
        "n_samples = 10000\n",
        "cnt = 0\n",
        "for _ in range(n_samples):\n",
        "    sample_ = np.round(rv.rvs(14), 2)\n",
        "    s_mean_ = np.mean(sample_)\n",
        "    z = (s_mean_ - 130) / np.sqrt(9/14)\n",
        "    if z >= c:\n",
        "        cnt += 1\n",
        "        \n",
        "cnt / n_samples"
      ],
      "execution_count": 9,
      "outputs": [
        {
          "output_type": "execute_result",
          "data": {
            "text/plain": [
              "0.197"
            ]
          },
          "metadata": {
            "tags": []
          },
          "execution_count": 9
        }
      ]
    },
    {
      "cell_type": "markdown",
      "metadata": {
        "id": "Z7R5jCoIQTdq"
      },
      "source": [
        "## 11.2 기본적인 가설검정"
      ]
    },
    {
      "cell_type": "markdown",
      "metadata": {
        "id": "J6NCPkhNRCkd"
      },
      "source": [
        "### 11.2.1 정규분포의 모평균에 대한 검정: 모분산을 알고있는 경우\n",
        "$X_1, X_2, ..., X_n\\;\\sim \\; N(\\mu,\\sigma^2)$이고, 모분산 $\\sigma^2$를 알고있다면</br>\n",
        "- 모평균 $\\mu$에 관한 유의수준 $\\alpha$의 양측검정</br>\n",
        "  - 귀무가설 : $\\mu = \\mu_0$\n",
        "  - 대립가설 : $\\mu \\ne \\mu_0$\n",
        "  - 검정통계량 : $Z = (\\overline{X} - \\mu_0) / \\sqrt{\\frac{\\sigma^2}{n}}$\n",
        "\n",
        "\\begin{cases}\n",
        "Z < z_{1-\\alpha /2} \\;\\; {or} \\;\\; Z > z_{\\alpha /2}, & \\mbox{귀무가설 기각}\\\\\n",
        "z_{1-\\alpha /2} \\le \\;Z\\; \\le z_{\\alpha /2}, & \\mbox{귀무가설 채택}\n",
        "\\end{cases} "
      ]
    },
    {
      "cell_type": "code",
      "metadata": {
        "id": "H-NN_JOFRJWc"
      },
      "source": [
        "def pmean_test(sample, mean0, p_var, alpha=0.05):\n",
        "    s_mean = np.mean(sample)\n",
        "    n = len(sample)\n",
        "    rv = stats.norm()\n",
        "    interval = rv.interval(1-alpha)\n",
        "\n",
        "    z = (s_mean - mean0) / np.sqrt(p_var/n)\n",
        "    if interval[0] <= z <= interval[1]:\n",
        "        print('귀무가설을 채택')\n",
        "    else:\n",
        "        print('귀무가설을 기각')\n",
        "\n",
        "    if z < 0:\n",
        "        p = rv.cdf(z) * 2\n",
        "    else:\n",
        "        p = (1 - rv.cdf(z)) * 2\n",
        "    print(f'p값은 {p:.3f}')"
      ],
      "execution_count": 10,
      "outputs": []
    },
    {
      "cell_type": "code",
      "metadata": {
        "colab": {
          "base_uri": "https://localhost:8080/"
        },
        "id": "SVkM5xPlT63W",
        "outputId": "6c740918-f2ba-46e8-ae42-869cb3cd23ce"
      },
      "source": [
        "pmean_test(sample, 130, 9)"
      ],
      "execution_count": 11,
      "outputs": [
        {
          "output_type": "stream",
          "text": [
            "귀무가설을 채택\n",
            "p값은 0.053\n"
          ],
          "name": "stdout"
        }
      ]
    },
    {
      "cell_type": "markdown",
      "metadata": {
        "id": "M3mmL80DT8N8"
      },
      "source": [
        "### 11.2.2 정규분포의 모분산에 대한 검정\n",
        "$X_1, X_2, ..., X_n\\;\\sim \\; N(\\mu,\\sigma^2)$이라면</br>\n",
        "- 모분산 $\\sigma^2$에 관한 유의수준 $\\alpha$의 양측검정</br>\n",
        "  - 귀무가설 : $\\sigma^2 = \\sigma^2_0$\n",
        "  - 대립가설 : $\\sigma^2 \\ne \\sigma^2_0$\n",
        "  - 검정통계량 : $Y = \\frac{(n-1)s^2}{\\sigma^2_0}$\n",
        "\n",
        "\\begin{cases}\n",
        "Y < \\chi^2_{1-\\alpha /2}(n-1) \\;\\; {or} \\;\\; Y > \\chi^2_{\\alpha /2}(n-1), & \\mbox{귀무가설 기각}\\\\\n",
        "\\chi^2_{1-\\alpha /2}(n-1) \\le \\;Z\\; \\le \\chi^2_{\\alpha /2}(n-1), & \\mbox{귀무가설 채택}\n",
        "\\end{cases} "
      ]
    },
    {
      "cell_type": "code",
      "metadata": {
        "id": "peYFsi0PUtvS"
      },
      "source": [
        "def pvar_test(sample, var0, alpha=0.05):\n",
        "    u_var = np.var(sample, ddof=1)\n",
        "    n = len(sample)\n",
        "    rv = stats.chi2(df=n-1)\n",
        "    interval = rv.interval(1-alpha)\n",
        "    \n",
        "    y = (n-1) * u_var / var0\n",
        "    if interval[0] <= y <= interval[1]:\n",
        "        print('귀무가설을 채택')\n",
        "    else:\n",
        "        print('귀무가설을 기각')\n",
        "\n",
        "    if y < rv.isf(0.5):\n",
        "        p = rv.cdf(y) * 2\n",
        "    else:\n",
        "        p = (1 - rv.cdf(y)) * 2\n",
        "    print(f'p값은 {p:.3f}')"
      ],
      "execution_count": 12,
      "outputs": []
    },
    {
      "cell_type": "code",
      "metadata": {
        "colab": {
          "base_uri": "https://localhost:8080/"
        },
        "id": "_RSnbNr5Uu7o",
        "outputId": "b46323ab-6e19-4778-bc7d-7435c6209654"
      },
      "source": [
        "pvar_test(sample, 9)"
      ],
      "execution_count": 13,
      "outputs": [
        {
          "output_type": "stream",
          "text": [
            "귀무가설을 채택\n",
            "p값은 0.085\n"
          ],
          "name": "stdout"
        }
      ]
    },
    {
      "cell_type": "markdown",
      "metadata": {
        "id": "_wwMREqtUwmR"
      },
      "source": [
        "### 11.2.1 정규분포의 모평균에 대한 검정: 모분산을 모르는 경우(t-test)\n",
        "$X_1, X_2, ..., X_n\\;\\sim \\; N(\\mu,\\sigma^2)$이라면</br>\n",
        "- 모평균 $\\mu$에 관한 유의수준 $\\alpha$의 양측검정</br>\n",
        "  - 귀무가설 : $\\mu = \\mu_0$\n",
        "  - 대립가설 : $\\mu \\ne \\mu_0$\n",
        "  - 검정통계량 : $t = (\\overline{X} - \\mu_0) / \\sqrt{\\frac{s^2}{n}}$\n",
        "\n",
        "\\begin{cases}\n",
        "t < t_{1-\\alpha /2}(n-1) \\;\\; {or} \\;\\; t > t_{\\alpha / 2}(n-1) & \\mbox{귀무가설 기각}\\\\\n",
        "t_{1-\\alpha /2}(n-1) \\le \\;t\\; \\le t_{\\alpha /2}(n-1)& \\mbox{귀무가설 채택}\n",
        "\\end{cases} "
      ]
    },
    {
      "cell_type": "code",
      "metadata": {
        "id": "qnNxymX4Vh9P"
      },
      "source": [
        "def pmean_test(sample, mean0, alpha=0.05):\n",
        "    s_mean = np.mean(sample)\n",
        "    u_var = np.var(sample, ddof=1)\n",
        "    n = len(sample)\n",
        "    rv = stats.t(df=n-1)\n",
        "    interval = rv.interval(1-alpha)\n",
        "\n",
        "    t = (s_mean - mean0) / np.sqrt(u_var/n)\n",
        "    if interval[0] <= t <= interval[1]:\n",
        "        print('귀무가설을 채택')\n",
        "    else:\n",
        "        print('귀무가설을 기각')\n",
        "\n",
        "    if t < 0:\n",
        "        p = rv.cdf(t) * 2\n",
        "    else:\n",
        "        p = (1 - rv.cdf(t)) * 2\n",
        "    print(f'p값은 {p:.3f}')"
      ],
      "execution_count": 14,
      "outputs": []
    },
    {
      "cell_type": "code",
      "metadata": {
        "colab": {
          "base_uri": "https://localhost:8080/"
        },
        "id": "nRqicAB8Vjrq",
        "outputId": "aef13ee5-84f8-4b28-ed2b-b7caee6cab1b"
      },
      "source": [
        "pmean_test(sample, 130)"
      ],
      "execution_count": 15,
      "outputs": [
        {
          "output_type": "stream",
          "text": [
            "귀무가설을 채택\n",
            "p값은 0.169\n"
          ],
          "name": "stdout"
        }
      ]
    },
    {
      "cell_type": "markdown",
      "metadata": {
        "id": "fLJMVkp_Vk3F"
      },
      "source": [
        "## 11.3 2표본 문제에 관한 가설검정\n",
        "\n",
        "||정규분포를 가정할 수 있음|정규분포를 가정할 수 없음|\n",
        "|------|---|---|\n",
        "|대응표본|대응비교 t 검정|윌콕슨의 부호순위검정|\n",
        "|독립표본|독립비교 t 검정|만, 위트니의 U검정|"
      ]
    },
    {
      "cell_type": "markdown",
      "metadata": {
        "id": "1UAHeWk4f7bj"
      },
      "source": [
        "<img src = 'https://github.com/yunions/Statistics/blob/master/image/2-sample_problem.PNG?raw=true'>"
      ]
    },
    {
      "cell_type": "markdown",
      "metadata": {
        "id": "Q0ORQAZEVxzB"
      },
      "source": [
        "### 11.3.1 대응비교 T 검정"
      ]
    },
    {
      "cell_type": "code",
      "metadata": {
        "colab": {
          "base_uri": "https://localhost:8080/",
          "height": 222
        },
        "id": "_KLYFbcoWX8D",
        "outputId": "b7a6160f-4229-4e77-8095-3e994535a68c"
      },
      "source": [
        "training_rel = pd.read_csv('/content/Statistics/data/ch11_training_rel.csv')\n",
        "print(training_rel.shape)\n",
        "training_rel.head()"
      ],
      "execution_count": 16,
      "outputs": [
        {
          "output_type": "stream",
          "text": [
            "(20, 2)\n"
          ],
          "name": "stdout"
        },
        {
          "output_type": "execute_result",
          "data": {
            "text/html": [
              "<div>\n",
              "<style scoped>\n",
              "    .dataframe tbody tr th:only-of-type {\n",
              "        vertical-align: middle;\n",
              "    }\n",
              "\n",
              "    .dataframe tbody tr th {\n",
              "        vertical-align: top;\n",
              "    }\n",
              "\n",
              "    .dataframe thead th {\n",
              "        text-align: right;\n",
              "    }\n",
              "</style>\n",
              "<table border=\"1\" class=\"dataframe\">\n",
              "  <thead>\n",
              "    <tr style=\"text-align: right;\">\n",
              "      <th></th>\n",
              "      <th>전</th>\n",
              "      <th>후</th>\n",
              "    </tr>\n",
              "  </thead>\n",
              "  <tbody>\n",
              "    <tr>\n",
              "      <th>0</th>\n",
              "      <td>59</td>\n",
              "      <td>41</td>\n",
              "    </tr>\n",
              "    <tr>\n",
              "      <th>1</th>\n",
              "      <td>52</td>\n",
              "      <td>63</td>\n",
              "    </tr>\n",
              "    <tr>\n",
              "      <th>2</th>\n",
              "      <td>55</td>\n",
              "      <td>68</td>\n",
              "    </tr>\n",
              "    <tr>\n",
              "      <th>3</th>\n",
              "      <td>61</td>\n",
              "      <td>59</td>\n",
              "    </tr>\n",
              "    <tr>\n",
              "      <th>4</th>\n",
              "      <td>59</td>\n",
              "      <td>84</td>\n",
              "    </tr>\n",
              "  </tbody>\n",
              "</table>\n",
              "</div>"
            ],
            "text/plain": [
              "    전   후\n",
              "0  59  41\n",
              "1  52  63\n",
              "2  55  68\n",
              "3  61  59\n",
              "4  59  84"
            ]
          },
          "metadata": {
            "tags": []
          },
          "execution_count": 16
        }
      ]
    },
    {
      "cell_type": "code",
      "metadata": {
        "colab": {
          "base_uri": "https://localhost:8080/",
          "height": 204
        },
        "id": "oPIayV_EWbTo",
        "outputId": "40823679-5382-414a-e8e6-4b47e743ed0c"
      },
      "source": [
        "training_rel['차'] = training_rel['후'] - training_rel['전']\n",
        "training_rel.head()"
      ],
      "execution_count": 17,
      "outputs": [
        {
          "output_type": "execute_result",
          "data": {
            "text/html": [
              "<div>\n",
              "<style scoped>\n",
              "    .dataframe tbody tr th:only-of-type {\n",
              "        vertical-align: middle;\n",
              "    }\n",
              "\n",
              "    .dataframe tbody tr th {\n",
              "        vertical-align: top;\n",
              "    }\n",
              "\n",
              "    .dataframe thead th {\n",
              "        text-align: right;\n",
              "    }\n",
              "</style>\n",
              "<table border=\"1\" class=\"dataframe\">\n",
              "  <thead>\n",
              "    <tr style=\"text-align: right;\">\n",
              "      <th></th>\n",
              "      <th>전</th>\n",
              "      <th>후</th>\n",
              "      <th>차</th>\n",
              "    </tr>\n",
              "  </thead>\n",
              "  <tbody>\n",
              "    <tr>\n",
              "      <th>0</th>\n",
              "      <td>59</td>\n",
              "      <td>41</td>\n",
              "      <td>-18</td>\n",
              "    </tr>\n",
              "    <tr>\n",
              "      <th>1</th>\n",
              "      <td>52</td>\n",
              "      <td>63</td>\n",
              "      <td>11</td>\n",
              "    </tr>\n",
              "    <tr>\n",
              "      <th>2</th>\n",
              "      <td>55</td>\n",
              "      <td>68</td>\n",
              "      <td>13</td>\n",
              "    </tr>\n",
              "    <tr>\n",
              "      <th>3</th>\n",
              "      <td>61</td>\n",
              "      <td>59</td>\n",
              "      <td>-2</td>\n",
              "    </tr>\n",
              "    <tr>\n",
              "      <th>4</th>\n",
              "      <td>59</td>\n",
              "      <td>84</td>\n",
              "      <td>25</td>\n",
              "    </tr>\n",
              "  </tbody>\n",
              "</table>\n",
              "</div>"
            ],
            "text/plain": [
              "    전   후   차\n",
              "0  59  41 -18\n",
              "1  52  63  11\n",
              "2  55  68  13\n",
              "3  61  59  -2\n",
              "4  59  84  25"
            ]
          },
          "metadata": {
            "tags": []
          },
          "execution_count": 17
        }
      ]
    },
    {
      "cell_type": "code",
      "metadata": {
        "colab": {
          "base_uri": "https://localhost:8080/"
        },
        "id": "6N0gl5ogWjgc",
        "outputId": "65eaa4b7-51a2-4ae5-8917-dcef702cc3f1"
      },
      "source": [
        "t, p = stats.ttest_1samp(training_rel['차'], 0)\n",
        "p"
      ],
      "execution_count": 18,
      "outputs": [
        {
          "output_type": "execute_result",
          "data": {
            "text/plain": [
              "0.040"
            ]
          },
          "metadata": {
            "tags": []
          },
          "execution_count": 18
        }
      ]
    },
    {
      "cell_type": "code",
      "metadata": {
        "colab": {
          "base_uri": "https://localhost:8080/"
        },
        "id": "a5iEjjhSWky3",
        "outputId": "33384bf4-cf31-4f2a-8ada-f81feb5af661"
      },
      "source": [
        "t, p = stats.ttest_rel(training_rel['후'], training_rel['전'])\n",
        "p"
      ],
      "execution_count": 19,
      "outputs": [
        {
          "output_type": "execute_result",
          "data": {
            "text/plain": [
              "0.040"
            ]
          },
          "metadata": {
            "tags": []
          },
          "execution_count": 19
        }
      ]
    },
    {
      "cell_type": "markdown",
      "metadata": {
        "id": "f3JTNwXrWqnK"
      },
      "source": [
        "### 11.3.1 독립비교 T 검정"
      ]
    },
    {
      "cell_type": "code",
      "metadata": {
        "colab": {
          "base_uri": "https://localhost:8080/",
          "height": 222
        },
        "id": "yVmi3jBVWt4k",
        "outputId": "a1dababd-d325-43d9-e4cd-46365ff00579"
      },
      "source": [
        "training_ind = pd.read_csv('/content/Statistics/data/ch11_training_ind.csv')\n",
        "print(training_ind.shape)\n",
        "training_ind.head()"
      ],
      "execution_count": 39,
      "outputs": [
        {
          "output_type": "stream",
          "text": [
            "(20, 2)\n"
          ],
          "name": "stdout"
        },
        {
          "output_type": "execute_result",
          "data": {
            "text/html": [
              "<div>\n",
              "<style scoped>\n",
              "    .dataframe tbody tr th:only-of-type {\n",
              "        vertical-align: middle;\n",
              "    }\n",
              "\n",
              "    .dataframe tbody tr th {\n",
              "        vertical-align: top;\n",
              "    }\n",
              "\n",
              "    .dataframe thead th {\n",
              "        text-align: right;\n",
              "    }\n",
              "</style>\n",
              "<table border=\"1\" class=\"dataframe\">\n",
              "  <thead>\n",
              "    <tr style=\"text-align: right;\">\n",
              "      <th></th>\n",
              "      <th>A</th>\n",
              "      <th>B</th>\n",
              "    </tr>\n",
              "  </thead>\n",
              "  <tbody>\n",
              "    <tr>\n",
              "      <th>0</th>\n",
              "      <td>47</td>\n",
              "      <td>49</td>\n",
              "    </tr>\n",
              "    <tr>\n",
              "      <th>1</th>\n",
              "      <td>50</td>\n",
              "      <td>52</td>\n",
              "    </tr>\n",
              "    <tr>\n",
              "      <th>2</th>\n",
              "      <td>37</td>\n",
              "      <td>54</td>\n",
              "    </tr>\n",
              "    <tr>\n",
              "      <th>3</th>\n",
              "      <td>60</td>\n",
              "      <td>48</td>\n",
              "    </tr>\n",
              "    <tr>\n",
              "      <th>4</th>\n",
              "      <td>39</td>\n",
              "      <td>51</td>\n",
              "    </tr>\n",
              "  </tbody>\n",
              "</table>\n",
              "</div>"
            ],
            "text/plain": [
              "    A   B\n",
              "0  47  49\n",
              "1  50  52\n",
              "2  37  54\n",
              "3  60  48\n",
              "4  39  51"
            ]
          },
          "metadata": {
            "tags": []
          },
          "execution_count": 39
        }
      ]
    },
    {
      "cell_type": "code",
      "metadata": {
        "id": "uFD7PlT8WzuH",
        "outputId": "8114555b-6bf9-4f32-ad3a-32011f188e51",
        "colab": {
          "base_uri": "https://localhost:8080/"
        }
      },
      "source": [
        "t, p = stats.ttest_ind(training_ind['A'], training_ind['B'],equal_var=False)\n",
        "p"
      ],
      "execution_count": 40,
      "outputs": [
        {
          "output_type": "execute_result",
          "data": {
            "text/plain": [
              "0.087"
            ]
          },
          "metadata": {
            "tags": []
          },
          "execution_count": 40
        }
      ]
    },
    {
      "cell_type": "markdown",
      "metadata": {
        "id": "z7ZJ-BChX_dg"
      },
      "source": [
        "### 11.3.3 윌콕슨의 부호순위검정"
      ]
    },
    {
      "cell_type": "code",
      "metadata": {
        "id": "fuN47BXoYOr5",
        "outputId": "ae1ab2a7-374f-4b60-8a38-57cb91b7f094",
        "colab": {
          "base_uri": "https://localhost:8080/",
          "height": 235
        }
      },
      "source": [
        "toy_df = training_rel[:6].copy()\n",
        "toy_df"
      ],
      "execution_count": 47,
      "outputs": [
        {
          "output_type": "execute_result",
          "data": {
            "text/html": [
              "<div>\n",
              "<style scoped>\n",
              "    .dataframe tbody tr th:only-of-type {\n",
              "        vertical-align: middle;\n",
              "    }\n",
              "\n",
              "    .dataframe tbody tr th {\n",
              "        vertical-align: top;\n",
              "    }\n",
              "\n",
              "    .dataframe thead th {\n",
              "        text-align: right;\n",
              "    }\n",
              "</style>\n",
              "<table border=\"1\" class=\"dataframe\">\n",
              "  <thead>\n",
              "    <tr style=\"text-align: right;\">\n",
              "      <th></th>\n",
              "      <th>전</th>\n",
              "      <th>후</th>\n",
              "      <th>차</th>\n",
              "    </tr>\n",
              "  </thead>\n",
              "  <tbody>\n",
              "    <tr>\n",
              "      <th>0</th>\n",
              "      <td>59</td>\n",
              "      <td>41</td>\n",
              "      <td>-18</td>\n",
              "    </tr>\n",
              "    <tr>\n",
              "      <th>1</th>\n",
              "      <td>52</td>\n",
              "      <td>63</td>\n",
              "      <td>11</td>\n",
              "    </tr>\n",
              "    <tr>\n",
              "      <th>2</th>\n",
              "      <td>55</td>\n",
              "      <td>68</td>\n",
              "      <td>13</td>\n",
              "    </tr>\n",
              "    <tr>\n",
              "      <th>3</th>\n",
              "      <td>61</td>\n",
              "      <td>59</td>\n",
              "      <td>-2</td>\n",
              "    </tr>\n",
              "    <tr>\n",
              "      <th>4</th>\n",
              "      <td>59</td>\n",
              "      <td>84</td>\n",
              "      <td>25</td>\n",
              "    </tr>\n",
              "    <tr>\n",
              "      <th>5</th>\n",
              "      <td>45</td>\n",
              "      <td>37</td>\n",
              "      <td>-8</td>\n",
              "    </tr>\n",
              "  </tbody>\n",
              "</table>\n",
              "</div>"
            ],
            "text/plain": [
              "    전   후   차\n",
              "0  59  41 -18\n",
              "1  52  63  11\n",
              "2  55  68  13\n",
              "3  61  59  -2\n",
              "4  59  84  25\n",
              "5  45  37  -8"
            ]
          },
          "metadata": {
            "tags": []
          },
          "execution_count": 47
        }
      ]
    },
    {
      "cell_type": "code",
      "metadata": {
        "id": "RMgqwOy-Ytm4",
        "outputId": "d127828d-f574-459e-87a0-2315c3ec343b",
        "colab": {
          "base_uri": "https://localhost:8080/",
          "height": 235
        }
      },
      "source": [
        "# 순위검정 : 순위분여(차이의 절대값이 작은 순)\n",
        "diff = toy_df['차']\n",
        "rank = stats.rankdata(abs(diff)).astype(int)\n",
        "toy_df['순위'] = rank\n",
        "toy_df"
      ],
      "execution_count": 50,
      "outputs": [
        {
          "output_type": "execute_result",
          "data": {
            "text/html": [
              "<div>\n",
              "<style scoped>\n",
              "    .dataframe tbody tr th:only-of-type {\n",
              "        vertical-align: middle;\n",
              "    }\n",
              "\n",
              "    .dataframe tbody tr th {\n",
              "        vertical-align: top;\n",
              "    }\n",
              "\n",
              "    .dataframe thead th {\n",
              "        text-align: right;\n",
              "    }\n",
              "</style>\n",
              "<table border=\"1\" class=\"dataframe\">\n",
              "  <thead>\n",
              "    <tr style=\"text-align: right;\">\n",
              "      <th></th>\n",
              "      <th>전</th>\n",
              "      <th>후</th>\n",
              "      <th>차</th>\n",
              "      <th>순위</th>\n",
              "    </tr>\n",
              "  </thead>\n",
              "  <tbody>\n",
              "    <tr>\n",
              "      <th>0</th>\n",
              "      <td>59</td>\n",
              "      <td>41</td>\n",
              "      <td>-18</td>\n",
              "      <td>5</td>\n",
              "    </tr>\n",
              "    <tr>\n",
              "      <th>1</th>\n",
              "      <td>52</td>\n",
              "      <td>63</td>\n",
              "      <td>11</td>\n",
              "      <td>3</td>\n",
              "    </tr>\n",
              "    <tr>\n",
              "      <th>2</th>\n",
              "      <td>55</td>\n",
              "      <td>68</td>\n",
              "      <td>13</td>\n",
              "      <td>4</td>\n",
              "    </tr>\n",
              "    <tr>\n",
              "      <th>3</th>\n",
              "      <td>61</td>\n",
              "      <td>59</td>\n",
              "      <td>-2</td>\n",
              "      <td>1</td>\n",
              "    </tr>\n",
              "    <tr>\n",
              "      <th>4</th>\n",
              "      <td>59</td>\n",
              "      <td>84</td>\n",
              "      <td>25</td>\n",
              "      <td>6</td>\n",
              "    </tr>\n",
              "    <tr>\n",
              "      <th>5</th>\n",
              "      <td>45</td>\n",
              "      <td>37</td>\n",
              "      <td>-8</td>\n",
              "      <td>2</td>\n",
              "    </tr>\n",
              "  </tbody>\n",
              "</table>\n",
              "</div>"
            ],
            "text/plain": [
              "    전   후   차  순위\n",
              "0  59  41 -18   5\n",
              "1  52  63  11   3\n",
              "2  55  68  13   4\n",
              "3  61  59  -2   1\n",
              "4  59  84  25   6\n",
              "5  45  37  -8   2"
            ]
          },
          "metadata": {
            "tags": []
          },
          "execution_count": 50
        }
      ]
    },
    {
      "cell_type": "code",
      "metadata": {
        "id": "7YDtID_zYxtM",
        "outputId": "fc257e56-6027-4b70-9e04-f9f7d19f40a9",
        "colab": {
          "base_uri": "https://localhost:8080/"
        }
      },
      "source": [
        "r_minus = np.sum((diff < 0) * rank) #차가 음수인 순위의 합 = 5 + 1+ 2\n",
        "r_plus = np.sum((diff > 0) * rank) #차가 양수인 순위의 합 = 3 + 4 + 6\n",
        "\n",
        "r_minus, r_plus # 이 둘 중 작은 쪽이 검정통계량이 됨(여기서는 r_minus)"
      ],
      "execution_count": 51,
      "outputs": [
        {
          "output_type": "execute_result",
          "data": {
            "text/plain": [
              "(8, 13)"
            ]
          },
          "metadata": {
            "tags": []
          },
          "execution_count": 51
        }
      ]
    },
    {
      "cell_type": "code",
      "metadata": {
        "id": "yskLPPvVdkR8",
        "outputId": "ec267620-0bce-446d-fb49-1a28e5f9bb48",
        "colab": {
          "base_uri": "https://localhost:8080/",
          "height": 235
        }
      },
      "source": [
        "#왜 작은 값을 검정통계량으로 쓸까??\n",
        "toy_df['후'] = toy_df['전'] + np.arange(1, 7)\n",
        "diff = toy_df['후'] - toy_df['전']\n",
        "rank = stats.rankdata(abs(diff)).astype(int)\n",
        "toy_df['차'] = diff\n",
        "toy_df['순위'] = rank\n",
        "toy_df"
      ],
      "execution_count": 53,
      "outputs": [
        {
          "output_type": "execute_result",
          "data": {
            "text/html": [
              "<div>\n",
              "<style scoped>\n",
              "    .dataframe tbody tr th:only-of-type {\n",
              "        vertical-align: middle;\n",
              "    }\n",
              "\n",
              "    .dataframe tbody tr th {\n",
              "        vertical-align: top;\n",
              "    }\n",
              "\n",
              "    .dataframe thead th {\n",
              "        text-align: right;\n",
              "    }\n",
              "</style>\n",
              "<table border=\"1\" class=\"dataframe\">\n",
              "  <thead>\n",
              "    <tr style=\"text-align: right;\">\n",
              "      <th></th>\n",
              "      <th>전</th>\n",
              "      <th>후</th>\n",
              "      <th>차</th>\n",
              "      <th>순위</th>\n",
              "    </tr>\n",
              "  </thead>\n",
              "  <tbody>\n",
              "    <tr>\n",
              "      <th>0</th>\n",
              "      <td>59</td>\n",
              "      <td>60</td>\n",
              "      <td>1</td>\n",
              "      <td>1</td>\n",
              "    </tr>\n",
              "    <tr>\n",
              "      <th>1</th>\n",
              "      <td>52</td>\n",
              "      <td>54</td>\n",
              "      <td>2</td>\n",
              "      <td>2</td>\n",
              "    </tr>\n",
              "    <tr>\n",
              "      <th>2</th>\n",
              "      <td>55</td>\n",
              "      <td>58</td>\n",
              "      <td>3</td>\n",
              "      <td>3</td>\n",
              "    </tr>\n",
              "    <tr>\n",
              "      <th>3</th>\n",
              "      <td>61</td>\n",
              "      <td>65</td>\n",
              "      <td>4</td>\n",
              "      <td>4</td>\n",
              "    </tr>\n",
              "    <tr>\n",
              "      <th>4</th>\n",
              "      <td>59</td>\n",
              "      <td>64</td>\n",
              "      <td>5</td>\n",
              "      <td>5</td>\n",
              "    </tr>\n",
              "    <tr>\n",
              "      <th>5</th>\n",
              "      <td>45</td>\n",
              "      <td>51</td>\n",
              "      <td>6</td>\n",
              "      <td>6</td>\n",
              "    </tr>\n",
              "  </tbody>\n",
              "</table>\n",
              "</div>"
            ],
            "text/plain": [
              "    전   후  차  순위\n",
              "0  59  60  1   1\n",
              "1  52  54  2   2\n",
              "2  55  58  3   3\n",
              "3  61  65  4   4\n",
              "4  59  64  5   5\n",
              "5  45  51  6   6"
            ]
          },
          "metadata": {
            "tags": []
          },
          "execution_count": 53
        }
      ]
    },
    {
      "cell_type": "code",
      "metadata": {
        "id": "dxpo5jBNY0Lw",
        "outputId": "08047eb4-af76-42b5-e99b-97ba2fcce255",
        "colab": {
          "base_uri": "https://localhost:8080/"
        }
      },
      "source": [
        "#diff가 클수록 검정통계량이 작아짐\n",
        "r_minus = np.sum((diff < 0) * rank)\n",
        "r_plus = np.sum((diff > 0) * rank)\n",
        "\n",
        "r_minus, r_plus"
      ],
      "execution_count": 29,
      "outputs": [
        {
          "output_type": "execute_result",
          "data": {
            "text/plain": [
              "(0, 21)"
            ]
          },
          "metadata": {
            "tags": []
          },
          "execution_count": 29
        }
      ]
    },
    {
      "cell_type": "code",
      "metadata": {
        "id": "Zt7cD6uSY3cw",
        "outputId": "287dfa8a-991d-46ff-aac5-ca88fdd459ce",
        "colab": {
          "base_uri": "https://localhost:8080/"
        }
      },
      "source": [
        "T, p = stats.wilcoxon(training_rel['전'], training_rel['후'])\n",
        "p"
      ],
      "execution_count": 54,
      "outputs": [
        {
          "output_type": "execute_result",
          "data": {
            "text/plain": [
              "0.038"
            ]
          },
          "metadata": {
            "tags": []
          },
          "execution_count": 54
        }
      ]
    },
    {
      "cell_type": "code",
      "metadata": {
        "id": "yZGHjLbIY5f_"
      },
      "source": [
        "n = 10000\n",
        "diffs = np.round(stats.norm(3, 4).rvs(size=(n, 20)))"
      ],
      "execution_count": 34,
      "outputs": []
    },
    {
      "cell_type": "code",
      "metadata": {
        "id": "dDM9ROItY6T9",
        "outputId": "57fbc335-bf75-4183-f229-8c63d70399c5",
        "colab": {
          "base_uri": "https://localhost:8080/"
        }
      },
      "source": [
        "#t-test\n",
        "cnt = 0\n",
        "alpha = 0.05\n",
        "for diff in diffs:\n",
        "    t, p = stats.ttest_1samp(diff, 0)\n",
        "    if p < alpha:\n",
        "        cnt += 1\n",
        "cnt / n"
      ],
      "execution_count": 35,
      "outputs": [
        {
          "output_type": "execute_result",
          "data": {
            "text/plain": [
              "0.883"
            ]
          },
          "metadata": {
            "tags": []
          },
          "execution_count": 35
        }
      ]
    },
    {
      "cell_type": "code",
      "metadata": {
        "id": "yxBL-gpiY7Gu",
        "outputId": "fbe4eb9d-ddf1-43fd-ed81-fd5359a293f4",
        "colab": {
          "base_uri": "https://localhost:8080/"
        }
      },
      "source": [
        "#willcox\n",
        "cnt = 0\n",
        "alpha = 0.05\n",
        "for diff in diffs:\n",
        "    T, p = stats.wilcoxon(diff)\n",
        "    if p < alpha:\n",
        "        cnt += 1\n",
        "cnt / n"
      ],
      "execution_count": 36,
      "outputs": [
        {
          "output_type": "execute_result",
          "data": {
            "text/plain": [
              "0.874"
            ]
          },
          "metadata": {
            "tags": []
          },
          "execution_count": 36
        }
      ]
    },
    {
      "cell_type": "markdown",
      "metadata": {
        "id": "a0p_C9oqY8hj"
      },
      "source": [
        "### 11.3.4 만, 위트니의 U검정"
      ]
    },
    {
      "cell_type": "code",
      "metadata": {
        "id": "5BYB05QDeb1s",
        "outputId": "a839111c-069d-4898-fb7b-10c3ac2746da",
        "colab": {
          "base_uri": "https://localhost:8080/",
          "height": 204
        }
      },
      "source": [
        "toy_df = training_ind[:5].copy()\n",
        "toy_df"
      ],
      "execution_count": 56,
      "outputs": [
        {
          "output_type": "execute_result",
          "data": {
            "text/html": [
              "<div>\n",
              "<style scoped>\n",
              "    .dataframe tbody tr th:only-of-type {\n",
              "        vertical-align: middle;\n",
              "    }\n",
              "\n",
              "    .dataframe tbody tr th {\n",
              "        vertical-align: top;\n",
              "    }\n",
              "\n",
              "    .dataframe thead th {\n",
              "        text-align: right;\n",
              "    }\n",
              "</style>\n",
              "<table border=\"1\" class=\"dataframe\">\n",
              "  <thead>\n",
              "    <tr style=\"text-align: right;\">\n",
              "      <th></th>\n",
              "      <th>A</th>\n",
              "      <th>B</th>\n",
              "    </tr>\n",
              "  </thead>\n",
              "  <tbody>\n",
              "    <tr>\n",
              "      <th>0</th>\n",
              "      <td>47</td>\n",
              "      <td>49</td>\n",
              "    </tr>\n",
              "    <tr>\n",
              "      <th>1</th>\n",
              "      <td>50</td>\n",
              "      <td>52</td>\n",
              "    </tr>\n",
              "    <tr>\n",
              "      <th>2</th>\n",
              "      <td>37</td>\n",
              "      <td>54</td>\n",
              "    </tr>\n",
              "    <tr>\n",
              "      <th>3</th>\n",
              "      <td>60</td>\n",
              "      <td>48</td>\n",
              "    </tr>\n",
              "    <tr>\n",
              "      <th>4</th>\n",
              "      <td>39</td>\n",
              "      <td>51</td>\n",
              "    </tr>\n",
              "  </tbody>\n",
              "</table>\n",
              "</div>"
            ],
            "text/plain": [
              "    A   B\n",
              "0  47  49\n",
              "1  50  52\n",
              "2  37  54\n",
              "3  60  48\n",
              "4  39  51"
            ]
          },
          "metadata": {
            "tags": []
          },
          "execution_count": 56
        }
      ]
    },
    {
      "cell_type": "code",
      "metadata": {
        "id": "N4rXypa8efX0",
        "outputId": "667576c3-d0f9-4c5b-8293-c7ae471f8688",
        "colab": {
          "base_uri": "https://localhost:8080/",
          "height": 204
        }
      },
      "source": [
        "#데이터 전체에 대해 값이 작은 순서대로 순위 부여\n",
        "rank = stats.rankdata(np.concatenate([toy_df['A'], toy_df['B']]))\n",
        "rank_df = pd.DataFrame({'A': rank[:5], 'B': rank[5:10]}).astype(int)\n",
        "rank_df"
      ],
      "execution_count": 57,
      "outputs": [
        {
          "output_type": "execute_result",
          "data": {
            "text/html": [
              "<div>\n",
              "<style scoped>\n",
              "    .dataframe tbody tr th:only-of-type {\n",
              "        vertical-align: middle;\n",
              "    }\n",
              "\n",
              "    .dataframe tbody tr th {\n",
              "        vertical-align: top;\n",
              "    }\n",
              "\n",
              "    .dataframe thead th {\n",
              "        text-align: right;\n",
              "    }\n",
              "</style>\n",
              "<table border=\"1\" class=\"dataframe\">\n",
              "  <thead>\n",
              "    <tr style=\"text-align: right;\">\n",
              "      <th></th>\n",
              "      <th>A</th>\n",
              "      <th>B</th>\n",
              "    </tr>\n",
              "  </thead>\n",
              "  <tbody>\n",
              "    <tr>\n",
              "      <th>0</th>\n",
              "      <td>3</td>\n",
              "      <td>5</td>\n",
              "    </tr>\n",
              "    <tr>\n",
              "      <th>1</th>\n",
              "      <td>6</td>\n",
              "      <td>8</td>\n",
              "    </tr>\n",
              "    <tr>\n",
              "      <th>2</th>\n",
              "      <td>1</td>\n",
              "      <td>9</td>\n",
              "    </tr>\n",
              "    <tr>\n",
              "      <th>3</th>\n",
              "      <td>10</td>\n",
              "      <td>4</td>\n",
              "    </tr>\n",
              "    <tr>\n",
              "      <th>4</th>\n",
              "      <td>2</td>\n",
              "      <td>7</td>\n",
              "    </tr>\n",
              "  </tbody>\n",
              "</table>\n",
              "</div>"
            ],
            "text/plain": [
              "    A  B\n",
              "0   3  5\n",
              "1   6  8\n",
              "2   1  9\n",
              "3  10  4\n",
              "4   2  7"
            ]
          },
          "metadata": {
            "tags": []
          },
          "execution_count": 57
        }
      ]
    },
    {
      "cell_type": "code",
      "metadata": {
        "id": "kDFANwa7eqV-",
        "outputId": "1c07f5a6-556c-48f1-acc1-b3c372680e37",
        "colab": {
          "base_uri": "https://localhost:8080/"
        }
      },
      "source": [
        "# 검정통계량 : A의 순위합\n",
        "n1 = len(rank_df['A']) #A의 순위합 = 3 + 6 + 1 + 10 + 2\n",
        "u = rank_df['A'].sum() - (n1*(n1+1))/2 #n1(n1+1)/2 = 검정통계량의 최솟값을 0으로 하기 위한 수\n",
        "u"
      ],
      "execution_count": 58,
      "outputs": [
        {
          "output_type": "execute_result",
          "data": {
            "text/plain": [
              "7.000"
            ]
          },
          "metadata": {
            "tags": []
          },
          "execution_count": 58
        }
      ]
    },
    {
      "cell_type": "code",
      "metadata": {
        "id": "V35hdUoqfM4i",
        "outputId": "1e7c6889-1ecb-4761-b48b-d76e9c244dde",
        "colab": {
          "base_uri": "https://localhost:8080/",
          "height": 204
        }
      },
      "source": [
        "rank_df = pd.DataFrame(np.arange(1, 11).reshape(2, 5).T, columns=['A', 'B'])\n",
        "rank_df"
      ],
      "execution_count": 60,
      "outputs": [
        {
          "output_type": "execute_result",
          "data": {
            "text/html": [
              "<div>\n",
              "<style scoped>\n",
              "    .dataframe tbody tr th:only-of-type {\n",
              "        vertical-align: middle;\n",
              "    }\n",
              "\n",
              "    .dataframe tbody tr th {\n",
              "        vertical-align: top;\n",
              "    }\n",
              "\n",
              "    .dataframe thead th {\n",
              "        text-align: right;\n",
              "    }\n",
              "</style>\n",
              "<table border=\"1\" class=\"dataframe\">\n",
              "  <thead>\n",
              "    <tr style=\"text-align: right;\">\n",
              "      <th></th>\n",
              "      <th>A</th>\n",
              "      <th>B</th>\n",
              "    </tr>\n",
              "  </thead>\n",
              "  <tbody>\n",
              "    <tr>\n",
              "      <th>0</th>\n",
              "      <td>1</td>\n",
              "      <td>6</td>\n",
              "    </tr>\n",
              "    <tr>\n",
              "      <th>1</th>\n",
              "      <td>2</td>\n",
              "      <td>7</td>\n",
              "    </tr>\n",
              "    <tr>\n",
              "      <th>2</th>\n",
              "      <td>3</td>\n",
              "      <td>8</td>\n",
              "    </tr>\n",
              "    <tr>\n",
              "      <th>3</th>\n",
              "      <td>4</td>\n",
              "      <td>9</td>\n",
              "    </tr>\n",
              "    <tr>\n",
              "      <th>4</th>\n",
              "      <td>5</td>\n",
              "      <td>10</td>\n",
              "    </tr>\n",
              "  </tbody>\n",
              "</table>\n",
              "</div>"
            ],
            "text/plain": [
              "   A   B\n",
              "0  1   6\n",
              "1  2   7\n",
              "2  3   8\n",
              "3  4   9\n",
              "4  5  10"
            ]
          },
          "metadata": {
            "tags": []
          },
          "execution_count": 60
        }
      ]
    },
    {
      "cell_type": "code",
      "metadata": {
        "id": "s1gJ8V7MfORl",
        "outputId": "6ce01ba1-b98a-499a-c575-2a4d482d064a",
        "colab": {
          "base_uri": "https://localhost:8080/"
        }
      },
      "source": [
        "u = rank_df['A'].sum() - (n1*(n1+1))/2\n",
        "u"
      ],
      "execution_count": 61,
      "outputs": [
        {
          "output_type": "execute_result",
          "data": {
            "text/plain": [
              "0.000"
            ]
          },
          "metadata": {
            "tags": []
          },
          "execution_count": 61
        }
      ]
    },
    {
      "cell_type": "code",
      "metadata": {
        "id": "BiAhVhb2fQ78",
        "outputId": "08f87e8c-c99f-4513-d7d8-7c1ce141b366",
        "colab": {
          "base_uri": "https://localhost:8080/"
        }
      },
      "source": [
        "u, p = stats.mannwhitneyu(training_ind['A'], training_ind['B'],alternative='two-sided')\n",
        "p"
      ],
      "execution_count": 62,
      "outputs": [
        {
          "output_type": "execute_result",
          "data": {
            "text/plain": [
              "0.059"
            ]
          },
          "metadata": {
            "tags": []
          },
          "execution_count": 62
        }
      ]
    },
    {
      "cell_type": "markdown",
      "metadata": {
        "id": "ljXtVl2kfWiG"
      },
      "source": [
        "### 11.3.5 카이제곱검정\n",
        ": 독립성 검정(test for independence)\n",
        "<img src = 'https://github.com/yunions/Statistics/blob/master/image/chi_independece.PNG?raw=true'>"
      ]
    },
    {
      "cell_type": "code",
      "metadata": {
        "id": "7yXil-jeiI27",
        "outputId": "9c5f1a0f-a43d-489e-dbb4-72504f3dbf13",
        "colab": {
          "base_uri": "https://localhost:8080/",
          "height": 222
        }
      },
      "source": [
        "ad_df = pd.read_csv('/content/Statistics/data/ch11_ad.csv')\n",
        "n = len(ad_df)\n",
        "print(n)\n",
        "ad_df.head()"
      ],
      "execution_count": 63,
      "outputs": [
        {
          "output_type": "stream",
          "text": [
            "1000\n"
          ],
          "name": "stdout"
        },
        {
          "output_type": "execute_result",
          "data": {
            "text/html": [
              "<div>\n",
              "<style scoped>\n",
              "    .dataframe tbody tr th:only-of-type {\n",
              "        vertical-align: middle;\n",
              "    }\n",
              "\n",
              "    .dataframe tbody tr th {\n",
              "        vertical-align: top;\n",
              "    }\n",
              "\n",
              "    .dataframe thead th {\n",
              "        text-align: right;\n",
              "    }\n",
              "</style>\n",
              "<table border=\"1\" class=\"dataframe\">\n",
              "  <thead>\n",
              "    <tr style=\"text-align: right;\">\n",
              "      <th></th>\n",
              "      <th>광고</th>\n",
              "      <th>구입</th>\n",
              "    </tr>\n",
              "  </thead>\n",
              "  <tbody>\n",
              "    <tr>\n",
              "      <th>0</th>\n",
              "      <td>B</td>\n",
              "      <td>하지 않았다</td>\n",
              "    </tr>\n",
              "    <tr>\n",
              "      <th>1</th>\n",
              "      <td>B</td>\n",
              "      <td>하지 않았다</td>\n",
              "    </tr>\n",
              "    <tr>\n",
              "      <th>2</th>\n",
              "      <td>A</td>\n",
              "      <td>했다</td>\n",
              "    </tr>\n",
              "    <tr>\n",
              "      <th>3</th>\n",
              "      <td>A</td>\n",
              "      <td>했다</td>\n",
              "    </tr>\n",
              "    <tr>\n",
              "      <th>4</th>\n",
              "      <td>B</td>\n",
              "      <td>하지 않았다</td>\n",
              "    </tr>\n",
              "  </tbody>\n",
              "</table>\n",
              "</div>"
            ],
            "text/plain": [
              "  광고      구입\n",
              "0  B  하지 않았다\n",
              "1  B  하지 않았다\n",
              "2  A      했다\n",
              "3  A      했다\n",
              "4  B  하지 않았다"
            ]
          },
          "metadata": {
            "tags": []
          },
          "execution_count": 63
        }
      ]
    },
    {
      "cell_type": "code",
      "metadata": {
        "id": "otz9_rIfiNWm",
        "outputId": "6c40463a-b1cd-4789-d9a4-028db1006f93",
        "colab": {
          "base_uri": "https://localhost:8080/",
          "height": 142
        }
      },
      "source": [
        "#교차집계표(Cross-table) 작성\n",
        "ad_cross = pd.crosstab(ad_df['광고'], ad_df['구입'])\n",
        "ad_cross"
      ],
      "execution_count": 64,
      "outputs": [
        {
          "output_type": "execute_result",
          "data": {
            "text/html": [
              "<div>\n",
              "<style scoped>\n",
              "    .dataframe tbody tr th:only-of-type {\n",
              "        vertical-align: middle;\n",
              "    }\n",
              "\n",
              "    .dataframe tbody tr th {\n",
              "        vertical-align: top;\n",
              "    }\n",
              "\n",
              "    .dataframe thead th {\n",
              "        text-align: right;\n",
              "    }\n",
              "</style>\n",
              "<table border=\"1\" class=\"dataframe\">\n",
              "  <thead>\n",
              "    <tr style=\"text-align: right;\">\n",
              "      <th>구입</th>\n",
              "      <th>하지 않았다</th>\n",
              "      <th>했다</th>\n",
              "    </tr>\n",
              "    <tr>\n",
              "      <th>광고</th>\n",
              "      <th></th>\n",
              "      <th></th>\n",
              "    </tr>\n",
              "  </thead>\n",
              "  <tbody>\n",
              "    <tr>\n",
              "      <th>A</th>\n",
              "      <td>351</td>\n",
              "      <td>49</td>\n",
              "    </tr>\n",
              "    <tr>\n",
              "      <th>B</th>\n",
              "      <td>549</td>\n",
              "      <td>51</td>\n",
              "    </tr>\n",
              "  </tbody>\n",
              "</table>\n",
              "</div>"
            ],
            "text/plain": [
              "구입  하지 않았다  했다\n",
              "광고            \n",
              "A      351  49\n",
              "B      549  51"
            ]
          },
          "metadata": {
            "tags": []
          },
          "execution_count": 64
        }
      ]
    },
    {
      "cell_type": "code",
      "metadata": {
        "id": "E1JICQtJiToR",
        "outputId": "6f04fd0d-fc28-4d43-c8f5-67fddb38249e",
        "colab": {
          "base_uri": "https://localhost:8080/"
        }
      },
      "source": [
        "ad_cross['했다'] / (ad_cross['했다'] + ad_cross['하지 않았다'])"
      ],
      "execution_count": 65,
      "outputs": [
        {
          "output_type": "execute_result",
          "data": {
            "text/plain": [
              "광고\n",
              "A    0.1225\n",
              "B    0.0850\n",
              "dtype: float64"
            ]
          },
          "metadata": {
            "tags": []
          },
          "execution_count": 65
        }
      ]
    },
    {
      "cell_type": "code",
      "metadata": {
        "id": "4CGb5jOKiV9y",
        "outputId": "9d41baf1-36ab-407b-e847-0a694fe333c7",
        "colab": {
          "base_uri": "https://localhost:8080/"
        }
      },
      "source": [
        "# 상품 구입한 사람의 합계, 상품을 구입하지 않은 사람의 합계, A를 본 사람, B를 본 사람\n",
        "n_not, n_yes = ad_cross.sum()\n",
        "n_adA, n_adB = ad_cross.sum(axis=1)\n",
        "print(f'buy : {n_yes}, not : {n_not}, AD A : {n_adA}, AD B : {n_adB}')"
      ],
      "execution_count": 73,
      "outputs": [
        {
          "output_type": "stream",
          "text": [
            "buy : 100, not : 900, AD A : 400, AD B : 600\n"
          ],
          "name": "stdout"
        }
      ]
    },
    {
      "cell_type": "code",
      "metadata": {
        "id": "B8HLclesiZ_z",
        "outputId": "ad4438d2-4056-45f6-8938-17becedc4008",
        "colab": {
          "base_uri": "https://localhost:8080/",
          "height": 111
        }
      },
      "source": [
        "#기대 도수 : 광고와 구입이 독립일 때, 기대되는 도수\n",
        "#관측 도수 : 실제 관측된 데이터\n",
        "ad_ef = pd.DataFrame({'했다': [n_adA * n_yes / n,\n",
        "                              n_adB * n_yes / n],\n",
        "                      '하지 않았다': [n_adA * n_not / n,\n",
        "                                   n_adB * n_not / n]},\n",
        "                      index=['A', 'B'])\n",
        "ad_ef #기대도수"
      ],
      "execution_count": 75,
      "outputs": [
        {
          "output_type": "execute_result",
          "data": {
            "text/html": [
              "<div>\n",
              "<style scoped>\n",
              "    .dataframe tbody tr th:only-of-type {\n",
              "        vertical-align: middle;\n",
              "    }\n",
              "\n",
              "    .dataframe tbody tr th {\n",
              "        vertical-align: top;\n",
              "    }\n",
              "\n",
              "    .dataframe thead th {\n",
              "        text-align: right;\n",
              "    }\n",
              "</style>\n",
              "<table border=\"1\" class=\"dataframe\">\n",
              "  <thead>\n",
              "    <tr style=\"text-align: right;\">\n",
              "      <th></th>\n",
              "      <th>했다</th>\n",
              "      <th>하지 않았다</th>\n",
              "    </tr>\n",
              "  </thead>\n",
              "  <tbody>\n",
              "    <tr>\n",
              "      <th>A</th>\n",
              "      <td>40.0</td>\n",
              "      <td>360.0</td>\n",
              "    </tr>\n",
              "    <tr>\n",
              "      <th>B</th>\n",
              "      <td>60.0</td>\n",
              "      <td>540.0</td>\n",
              "    </tr>\n",
              "  </tbody>\n",
              "</table>\n",
              "</div>"
            ],
            "text/plain": [
              "     했다  하지 않았다\n",
              "A  40.0   360.0\n",
              "B  60.0   540.0"
            ]
          },
          "metadata": {
            "tags": []
          },
          "execution_count": 75
        }
      ]
    },
    {
      "cell_type": "code",
      "metadata": {
        "id": "rpBsOXepibGs",
        "outputId": "02ef2a6e-debb-4cfb-d23b-a618be020467",
        "colab": {
          "base_uri": "https://localhost:8080/"
        }
      },
      "source": [
        "#기대도수와 관측도수의 차이로 검정\n",
        "y = ((ad_cross - ad_ef) ** 2 / ad_ef).sum().sum()\n",
        "y"
      ],
      "execution_count": 69,
      "outputs": [
        {
          "output_type": "execute_result",
          "data": {
            "text/plain": [
              "3.750"
            ]
          },
          "metadata": {
            "tags": []
          },
          "execution_count": 69
        }
      ]
    },
    {
      "cell_type": "code",
      "metadata": {
        "id": "Ur5XIL_FicHK",
        "outputId": "97d3cfa0-6449-471b-fd38-c71820d22b70",
        "colab": {
          "base_uri": "https://localhost:8080/"
        }
      },
      "source": [
        "rv = stats.chi2(1)\n",
        "1 - rv.cdf(y)"
      ],
      "execution_count": 70,
      "outputs": [
        {
          "output_type": "execute_result",
          "data": {
            "text/plain": [
              "0.053"
            ]
          },
          "metadata": {
            "tags": []
          },
          "execution_count": 70
        }
      ]
    },
    {
      "cell_type": "code",
      "metadata": {
        "id": "DV_tYe7PidVe",
        "outputId": "3a956015-07dc-4bc9-95c8-2d0d7649e282",
        "colab": {
          "base_uri": "https://localhost:8080/"
        }
      },
      "source": [
        "chi2, p, dof, ef = stats.chi2_contingency(ad_cross,\n",
        "                                          correction=False)\n",
        "chi2, p, dof"
      ],
      "execution_count": 71,
      "outputs": [
        {
          "output_type": "execute_result",
          "data": {
            "text/plain": [
              "(3.750, 0.053, 1)"
            ]
          },
          "metadata": {
            "tags": []
          },
          "execution_count": 71
        }
      ]
    },
    {
      "cell_type": "code",
      "metadata": {
        "id": "t2PBP2nmieSC",
        "outputId": "59233f36-19f5-403e-f770-dc5425610610",
        "colab": {
          "base_uri": "https://localhost:8080/"
        }
      },
      "source": [
        "ef"
      ],
      "execution_count": 72,
      "outputs": [
        {
          "output_type": "execute_result",
          "data": {
            "text/plain": [
              "array([[360.,  40.],\n",
              "       [540.,  60.]])"
            ]
          },
          "metadata": {
            "tags": []
          },
          "execution_count": 72
        }
      ]
    }
  ]
}