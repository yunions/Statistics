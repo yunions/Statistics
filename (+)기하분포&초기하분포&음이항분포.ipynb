{
  "nbformat": 4,
  "nbformat_minor": 0,
  "metadata": {
    "colab": {
      "name": "(+)기하분포&초기하분포&음이항분포.ipynb",
      "provenance": [],
      "authorship_tag": "ABX9TyO5iivPDwq6yVBHCWjz9rFZ",
      "include_colab_link": true
    },
    "kernelspec": {
      "name": "python3",
      "display_name": "Python 3"
    },
    "language_info": {
      "name": "python"
    }
  },
  "cells": [
    {
      "cell_type": "markdown",
      "metadata": {
        "id": "view-in-github",
        "colab_type": "text"
      },
      "source": [
        "<a href=\"https://colab.research.google.com/github/yunions/Statistics/blob/master/(%2B)%EA%B8%B0%ED%95%98%EB%B6%84%ED%8F%AC%26%EC%B4%88%EA%B8%B0%ED%95%98%EB%B6%84%ED%8F%AC%26%EC%9D%8C%EC%9D%B4%ED%95%AD%EB%B6%84%ED%8F%AC.ipynb\" target=\"_parent\"><img src=\"https://colab.research.google.com/assets/colab-badge.svg\" alt=\"Open In Colab\"/></a>"
      ]
    },
    {
      "cell_type": "code",
      "metadata": {
        "colab": {
          "base_uri": "https://localhost:8080/"
        },
        "id": "vsDcxoM9rBfZ",
        "outputId": "b35b0050-b662-4201-9f4a-9219c5b2f1d1"
      },
      "source": [
        "! git clone https://github.com/yunions/Statistics"
      ],
      "execution_count": 1,
      "outputs": [
        {
          "output_type": "stream",
          "text": [
            "fatal: destination path 'Statistics' already exists and is not an empty directory.\n"
          ],
          "name": "stdout"
        }
      ]
    },
    {
      "cell_type": "markdown",
      "metadata": {
        "id": "xMbw-djjYs_E"
      },
      "source": [
        "# 기하분포,초기하분포,음이항분포"
      ]
    },
    {
      "cell_type": "markdown",
      "metadata": {
        "id": "uw9XpM_EZSPX"
      },
      "source": [
        "## 01. 기하분포\n",
        "베르누이 시행에서 처음 성공할 때까지 반복한 시행횟수  \n",
        "즉, 베르누이 시행에서 첫 성공까지의 시행횟수(한번의 성공만 포함)  \n",
        "- 기하분포의 확률질량함수(PMF)\n",
        "$$P(X = x) =  (1 - p)^{x-1} p \\qquad \\qquad P(X \\le x) = 1 - (1-p)^x $$  \n",
        "- 예상치(Expectation)와 분산(Variance)\n",
        "$$ E(X) = \\frac{1}{p} \\qquad \\qquad Var(X) = \\frac{1-p}{p^2}$$\n"
      ]
    },
    {
      "cell_type": "markdown",
      "metadata": {
        "id": "4z2p1DHMttyN"
      },
      "source": [
        "## 02. 음이항분포\n",
        "x번의 독립적인 베르누이 시행 중  r 번의 성공을 포함하는 이항분포 \n",
        "- 이항분포의 확률질량함수(PMF)\n",
        "$$P(X = x) =  \t{x-1 \\choose r-1}(1 - p)^{x-r} p^r = _{x-1}\\mathrm{C}_{r-1}(1-p)^{x-r}p^r$$  \n",
        "- 예상치(Expectation)와 분산(Variance)\n",
        "$$ E(X) = \\frac{r}{p} \\qquad \\qquad Var(X) = \\frac{r(1-p)}{p^2}$$\n",
        "<br>\n",
        "- r = 1인 경우 = 기하분포\n",
        "- 이항분포? 음이항분포?\n",
        "이항분포의 경우 전체 시행 횟수 n, 성공횟수를 r이라고 할 때, $ X ~ NB(r,p), Y ~ B(n,p)$의 관계는 $$ P(X \\le n) = P( Y \\ge r)$$\n",
        "즉, 이항분포의 경우 시행 횟수 n이 고정되어 있고, 성공 횟수 r이 확률변수이지만, 음이항분포의 경우 시행횟수 n이 확률변수이고 성공횟수 r이 고정되어있다  \n",
        "![image]('/content/Statistics/image/geometric_negative-Binomial.PNG')"
      ]
    },
    {
      "cell_type": "markdown",
      "metadata": {
        "id": "WQhEKcxRMaGG"
      },
      "source": [
        "## 03. 초기하분포\n",
        "N개 중 원하는 결과가 x개 있고, 이 중 n개를 **비복원추출**로 뽑았을 때, 원하는 x개가 뽑히는 경우의 분포  \n",
        "- 이항분포(Binomial) : 초기하 분포를 복원추출로 진행  \n",
        "- 초기하분포의 확률질량함수(PMF)\n",
        "$$P(X = x) =  \\frac{{r \\choose x}*{N-r \\choose n-x}}{{N \\choose n}} = \\frac{_{r}\\mathrm{C}_{x}* _{N-r}\\mathrm{C}_{n-x}}{_{N}\\mathrm{C}_{n}}$$  \n",
        "- 예상치(Expectation)와 분산(Variance)\n",
        "$$ E(X) = n\\frac{r}{N} \\qquad \\qquad Var(X) = n\\frac{r}{N}*\\frac{N-n}{N-1}*(1-\\frac{r}{N})$$\n",
        "\n",
        "- 초기하분포의 N이 무한대로 간다면, 초기하분포는 이항분포와 동일해진다.  \n",
        "\n",
        "![image]('/content/Statistics/image/Binomial-Hypergeometric.PNG')"
      ]
    },
    {
      "cell_type": "code",
      "metadata": {
        "id": "hxES7dHNYQin"
      },
      "source": [
        ""
      ],
      "execution_count": null,
      "outputs": []
    }
  ]
}