{
  "nbformat": 4,
  "nbformat_minor": 0,
  "metadata": {
    "colab": {
      "name": "06.이산형확률분포_예제.ipynb",
      "provenance": [],
      "toc_visible": true,
      "authorship_tag": "ABX9TyMmLzlXMJqqA52q4y4xdL8c",
      "include_colab_link": true
    },
    "kernelspec": {
      "name": "python3",
      "display_name": "Python 3"
    },
    "language_info": {
      "name": "python"
    }
  },
  "cells": [
    {
      "cell_type": "markdown",
      "metadata": {
        "id": "view-in-github",
        "colab_type": "text"
      },
      "source": [
        "<a href=\"https://colab.research.google.com/github/yunions/Statistics/blob/master/06_%EC%9D%B4%EC%82%B0%ED%98%95%ED%99%95%EB%A5%A0%EB%B6%84%ED%8F%AC_%EC%98%88%EC%A0%9C.ipynb\" target=\"_parent\"><img src=\"https://colab.research.google.com/assets/colab-badge.svg\" alt=\"Open In Colab\"/></a>"
      ]
    },
    {
      "cell_type": "code",
      "metadata": {
        "id": "nosFWqRpwP8k"
      },
      "source": [
        "import numpy as np\n",
        "import pandas as pd\n",
        "from scipy import stats\n",
        "from scipy.special import comb, factorial"
      ],
      "execution_count": 9,
      "outputs": []
    },
    {
      "cell_type": "markdown",
      "metadata": {
        "id": "EPp1LOX3xMR0"
      },
      "source": [
        "# 06. 이산형확률분포(discrete Probability distribution)  \n",
        "기하분포 문제 없음(초기하분포 문제로 대체)"
      ]
    },
    {
      "cell_type": "markdown",
      "metadata": {
        "id": "kI2xtIohxrIe"
      },
      "source": [
        "## 문제 01\n",
        "병원에 총 20명의 환자가 내원했고, 이 중 총 3명이 A바이러스에 감염이 된 것을 확인했다.  \n",
        "랜덤으로 20명의 환자 중 2명을 뽑았을 때 A바이러스 감염자가 1명 이상일 확률은?"
      ]
    },
    {
      "cell_type": "markdown",
      "metadata": {
        "id": "r4BBNayGz79l"
      },
      "source": [
        "### 답"
      ]
    },
    {
      "cell_type": "code",
      "metadata": {
        "id": "qZUiwQgL2vKI"
      },
      "source": [
        "#베르누이 분포(시행의 결과가 yes or no인 확률)\n",
        "#이항분포(베르누이 분포를 n회 실행 했을 때, 원하는 결과가 x번 나올 확률)\n",
        "def binomial_result(p, n, x) : \n",
        "  if p > 0 and n > 0 :\n",
        "    result = comb(n,x) * p**x * ( 1 - p )**( n - x )\n",
        "  else : return 0\n",
        "\n",
        "  return result"
      ],
      "execution_count": 2,
      "outputs": []
    },
    {
      "cell_type": "code",
      "metadata": {
        "colab": {
          "base_uri": "https://localhost:8080/"
        },
        "id": "L_FvVP6Ny7G6",
        "outputId": "7d367063-2ce2-45b5-a9ee-c3d851441a7b"
      },
      "source": [
        "p = 3 / 20 #감염될 확률 = yes\n",
        "result = binomial_result(p, 20, 1)\n",
        "print(f'{result : .3f}')"
      ],
      "execution_count": 3,
      "outputs": [
        {
          "output_type": "stream",
          "text": [
            " 0.137\n"
          ],
          "name": "stdout"
        }
      ]
    },
    {
      "cell_type": "markdown",
      "metadata": {
        "id": "GRv_zheBzq7R"
      },
      "source": [
        "## 문제 02\n",
        "A 바이러스는 약을 통해 75% 확률로 치료가 된다.  \n",
        "총 20명의 감염자 중 최소 5명이상이 완치가 될 확률은?"
      ]
    },
    {
      "cell_type": "markdown",
      "metadata": {
        "id": "1VcFrzhZy1Kl"
      },
      "source": [
        "### 답"
      ]
    },
    {
      "cell_type": "code",
      "metadata": {
        "colab": {
          "base_uri": "https://localhost:8080/"
        },
        "id": "ckrPoCGn6bYC",
        "outputId": "f7f87f54-a3c4-4d4c-ee25-9f48d84d6b61"
      },
      "source": [
        "case_0 = binomial_result(0.75, 4, 0)\n",
        "case_1 = binomial_result(0.75, 10, 1)\n",
        "case_2 = binomial_result(0.75, 10, 2)\n",
        "case_3 = binomial_result(0.75, 10, 3)\n",
        "case_4 = binomial_result(0.75, 10, 4)\n",
        "\n",
        "result = 1 - (case_0 + case_1 + case_2 + case_3 + case_4)\n",
        "print(f'{result : .3f}')"
      ],
      "execution_count": 4,
      "outputs": [
        {
          "output_type": "stream",
          "text": [
            " 0.976\n"
          ],
          "name": "stdout"
        }
      ]
    },
    {
      "cell_type": "markdown",
      "metadata": {
        "id": "cDk7slFiWv1G"
      },
      "source": [
        "## 문제 03  \n",
        "부적합품률이 4%, N = 100인 로트에서 랜덤하게 시료 4개를 샘플링했을 때 그 시료 중에 부적합품이 하나도 없을 확률을,  \n",
        "초기하분포 / 이항분포 / 포아송분포를 이용하여 각각 구하시오."
      ]
    },
    {
      "cell_type": "markdown",
      "metadata": {
        "id": "lTbs7lJZ1xnA"
      },
      "source": [
        "### 답"
      ]
    },
    {
      "cell_type": "code",
      "metadata": {
        "id": "bIiAJKDJy3ck"
      },
      "source": [
        "def hypergeometice_result(N,p,n,x) :\n",
        "  if p > 0 and N > 0 and n > 0 :\n",
        "    n1 = round(p*N,2)\n",
        "    n2 = N - n1\n",
        "    result = comb(n1,x) * comb(n2,n-x) / comb(N,n)\n",
        "  else : return 0\n",
        "\n",
        "  return result"
      ],
      "execution_count": 29,
      "outputs": []
    },
    {
      "cell_type": "code",
      "metadata": {
        "id": "h8l6ED8N0KFX"
      },
      "source": [
        "def poisson_result(p,n,x) :\n",
        "  m = p*n\n",
        "  if p > 0 and n > 0 :\n",
        "    result = np.exp(-m) * np.power(m,x) / factorial(x)\n",
        "  else : return 0\n",
        "\n",
        "  return result"
      ],
      "execution_count": 11,
      "outputs": []
    },
    {
      "cell_type": "code",
      "metadata": {
        "colab": {
          "base_uri": "https://localhost:8080/"
        },
        "id": "j58XzJAezkuC",
        "outputId": "23adfb07-2865-4181-fda0-44d0e40f248a"
      },
      "source": [
        "by_bino = binomial_result(0.04,4,0)\n",
        "by_hyper = hypergeometice_result(100,0.04,4,0)\n",
        "by_pois = poisson_result(0.04,4,0)\n",
        "print(f'이항분포 : {by_bino : .4f} \\n초기하분포 : {by_hyper : .4f} \\n포아송분포 : {by_pois : .4f}')"
      ],
      "execution_count": 18,
      "outputs": [
        {
          "output_type": "stream",
          "text": [
            "이항분포 :  0.8493 \n",
            "초기하분포 :  0.8472 \n",
            "포아송분포 :  0.8521\n"
          ],
          "name": "stdout"
        }
      ]
    },
    {
      "cell_type": "markdown",
      "metadata": {
        "id": "w7ugLQSE2X_9"
      },
      "source": [
        "## 문제 04\n",
        "흰색 공 3개와 빨간 공 10개가 들어있는 용기가 있다.  \n",
        "이 용기에서 5개를 샘플링했을 때 흰공 2개와 빨간 공 3개가 뽑힐 확률은?"
      ]
    },
    {
      "cell_type": "markdown",
      "metadata": {
        "id": "fvLDC6wb5XZh"
      },
      "source": [
        "### 답"
      ]
    },
    {
      "cell_type": "code",
      "metadata": {
        "colab": {
          "base_uri": "https://localhost:8080/"
        },
        "id": "EA4gqSSz2l6h",
        "outputId": "e7ccfe35-753b-4846-a456-719104bf9b4b"
      },
      "source": [
        "# 비복원 = 초기하분포\n",
        "wihtout_sample = hypergeometice_result(13, 3/13, 5, 2)\n",
        "# 복원 = 이항분포\n",
        "with_sample = binomial_result(10/13, 5, 3)\n",
        "print(f'비복원 : {wihtout_sample : .4f}, 복원 : {with_sample : .4f}')"
      ],
      "execution_count": 30,
      "outputs": [
        {
          "output_type": "stream",
          "text": [
            "비복원 :  0.2797, 복원 :  0.2424\n"
          ],
          "name": "stdout"
        }
      ]
    },
    {
      "cell_type": "markdown",
      "metadata": {
        "id": "wzciE4eS3MOT"
      },
      "source": [
        "## 문제 05\n",
        "모평균이 같은 경우, 이항분포, 포아송 분포, 초기하분포에서 표준편차 크기의 순서는?"
      ]
    },
    {
      "cell_type": "markdown",
      "metadata": {
        "id": "uPOF83M95Vdk"
      },
      "source": [
        "### 답"
      ]
    },
    {
      "cell_type": "markdown",
      "metadata": {
        "id": "gR6R3t4i5hgh"
      },
      "source": [
        "초기하 $\\le$ 이항분포 $\\le$ 포아송분포"
      ]
    },
    {
      "cell_type": "code",
      "metadata": {
        "id": "1ZemzTai5pXR"
      },
      "source": [
        ""
      ],
      "execution_count": null,
      "outputs": []
    }
  ]
}