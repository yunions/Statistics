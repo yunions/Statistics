{
  "nbformat": 4,
  "nbformat_minor": 0,
  "metadata": {
    "colab": {
      "name": "06.이산형확률분포_예제.ipynb",
      "provenance": [],
      "toc_visible": true,
      "authorship_tag": "ABX9TyNNvVxCZLuPPiLheIWWsSpB",
      "include_colab_link": true
    },
    "kernelspec": {
      "name": "python3",
      "display_name": "Python 3"
    },
    "language_info": {
      "name": "python"
    }
  },
  "cells": [
    {
      "cell_type": "markdown",
      "metadata": {
        "id": "view-in-github",
        "colab_type": "text"
      },
      "source": [
        "<a href=\"https://colab.research.google.com/github/yunions/Statistics/blob/master/06_%EC%9D%B4%EC%82%B0%ED%98%95%ED%99%95%EB%A5%A0%EB%B6%84%ED%8F%AC_%EC%98%88%EC%A0%9C.ipynb\" target=\"_parent\"><img src=\"https://colab.research.google.com/assets/colab-badge.svg\" alt=\"Open In Colab\"/></a>"
      ]
    },
    {
      "cell_type": "code",
      "metadata": {
        "colab": {
          "base_uri": "https://localhost:8080/"
        },
        "id": "-otJqHtOxKJL",
        "outputId": "1ef40aa8-a075-41fd-b734-fce131dba9e3"
      },
      "source": [
        "! git clone https://github.com/yunions/Statistics.git"
      ],
      "execution_count": 2,
      "outputs": [
        {
          "output_type": "stream",
          "text": [
            "Cloning into 'Statistics'...\n",
            "remote: Enumerating objects: 25, done.\u001b[K\n",
            "remote: Counting objects: 100% (25/25), done.\u001b[K\n",
            "remote: Compressing objects: 100% (24/24), done.\u001b[K\n",
            "remote: Total 25 (delta 3), reused 17 (delta 0), pack-reused 0\u001b[K\n",
            "Unpacking objects: 100% (25/25), done.\n"
          ],
          "name": "stdout"
        }
      ]
    },
    {
      "cell_type": "code",
      "metadata": {
        "id": "nosFWqRpwP8k"
      },
      "source": [
        "import numpy as np\n",
        "import pandas as pd\n",
        "from scipy import stats\n",
        "from scipy.special import comb"
      ],
      "execution_count": 11,
      "outputs": []
    },
    {
      "cell_type": "markdown",
      "metadata": {
        "id": "EPp1LOX3xMR0"
      },
      "source": [
        "# 06. 이산형확률분포(discrete Probability distribution)  "
      ]
    },
    {
      "cell_type": "markdown",
      "metadata": {
        "id": "kI2xtIohxrIe"
      },
      "source": [
        "## 문제 01\n",
        "병원에 총 20명의 환자가 내원했고, 이 중 총 3명이 A바이러스에 감염이 된 것을 확인했다.  \n",
        "랜덤으로 20명의 환자 중 2명을 뽑았을 때 A바이러스 감염자가 1명 이상일 확률은?"
      ]
    },
    {
      "cell_type": "markdown",
      "metadata": {
        "id": "r4BBNayGz79l"
      },
      "source": [
        "### 답"
      ]
    },
    {
      "cell_type": "code",
      "metadata": {
        "id": "qZUiwQgL2vKI"
      },
      "source": [
        "#베르누이 분포(시행의 결과가 yes or no인 확률)\n",
        "#이항분포(베르누이 분포를 n회 실행 했을 때, 원하는 결과가 x번 나올 확률)\n",
        "def binomial_result(p, n, x) : \n",
        "  if p > 0 and n > 0 :\n",
        "    result = comb(n,x) * p**x * ( 1 - p )**( n - x )\n",
        "    print(result)\n",
        "  else : return 0\n",
        "\n",
        "  return result"
      ],
      "execution_count": 38,
      "outputs": []
    },
    {
      "cell_type": "code",
      "metadata": {
        "colab": {
          "base_uri": "https://localhost:8080/"
        },
        "id": "L_FvVP6Ny7G6",
        "outputId": "3acff6a1-6711-491e-d6b8-da38ef907344"
      },
      "source": [
        "p = 3 / 20 #감염될 확률 = yes\n",
        "result = binomial_result(p, 20, 1)\n",
        "print(f'{result : .3f}')"
      ],
      "execution_count": 35,
      "outputs": [
        {
          "output_type": "stream",
          "text": [
            " 0.137\n"
          ],
          "name": "stdout"
        }
      ]
    },
    {
      "cell_type": "markdown",
      "metadata": {
        "id": "GRv_zheBzq7R"
      },
      "source": [
        "## 문제 02\n",
        "A 바이러스는 약을 통해 80% 확률로 치료가 된다.  \n",
        "총 20명의 감염자 중 최소 3명이상이 완치가 될 확률은?"
      ]
    },
    {
      "cell_type": "code",
      "metadata": {
        "colab": {
          "base_uri": "https://localhost:8080/"
        },
        "id": "ckrPoCGn6bYC",
        "outputId": "d071bcc2-a601-462f-c613-7d6f617ef7df"
      },
      "source": [
        "case_0 = binomial_result(1/6, 4, 0)\n",
        "case_1 = binomial_result(0.75, 10, 1)\n",
        "case_2 = binomial_result(0.75, 10, 2)\n",
        "\n",
        "result = 1 - (case_0 + case_1 + case_2)\n",
        "print(f'{result : .10f}')"
      ],
      "execution_count": 42,
      "outputs": [
        {
          "output_type": "stream",
          "text": [
            "0.4822530864197532\n",
            "2.86102294921875e-05\n",
            "0.00038623809814453125\n",
            " 0.5173320653\n"
          ],
          "name": "stdout"
        }
      ]
    },
    {
      "cell_type": "code",
      "metadata": {
        "id": "eh7lYvk2wqmz"
      },
      "source": [
        "베르누이 분포, 이항분포, 기하분포, 포아송분포"
      ],
      "execution_count": null,
      "outputs": []
    }
  ]
}