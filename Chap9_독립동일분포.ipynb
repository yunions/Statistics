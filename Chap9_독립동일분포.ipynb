{
  "nbformat": 4,
  "nbformat_minor": 0,
  "metadata": {
    "colab": {
      "name": "Chap9_독립동일분포.ipynb",
      "provenance": [],
      "toc_visible": true,
      "authorship_tag": "ABX9TyO/c8dNj0n3fqvYMOekrMwX",
      "include_colab_link": true
    },
    "kernelspec": {
      "name": "python3",
      "display_name": "Python 3"
    },
    "language_info": {
      "name": "python"
    }
  },
  "cells": [
    {
      "cell_type": "markdown",
      "metadata": {
        "id": "view-in-github",
        "colab_type": "text"
      },
      "source": [
        "<a href=\"https://colab.research.google.com/github/yunions/Statistics/blob/master/Chap9_%EB%8F%85%EB%A6%BD%EB%8F%99%EC%9D%BC%EB%B6%84%ED%8F%AC.ipynb\" target=\"_parent\"><img src=\"https://colab.research.google.com/assets/colab-badge.svg\" alt=\"Open In Colab\"/></a>"
      ]
    },
    {
      "cell_type": "code",
      "metadata": {
        "id": "SB534pi5TuHe"
      },
      "source": [
        "import numpy as np\n",
        "import matplotlib.pyplot as plt\n",
        "from scipy import stats\n",
        "\n",
        "np.random.seed(0)\n",
        "%precision 3\n",
        "%matplotlib inline"
      ],
      "execution_count": 1,
      "outputs": []
    },
    {
      "cell_type": "code",
      "metadata": {
        "id": "V0SQJgj2JWFz"
      },
      "source": [
        "linestyles = ['-', '--', ':', '-.']\n",
        "\n",
        "def E(XY, g):\n",
        "    x_set, y_set, f_XY = XY\n",
        "    return np.sum([g(x_i, y_j) * f_XY(x_i, y_j)\n",
        "                   for x_i in x_set for y_j in y_set])\n",
        "\n",
        "def Cov(XY):\n",
        "    x_set, y_set, f_XY = XY\n",
        "    mean_X = E(XY, lambda x, y: x)\n",
        "    mean_Y = E(XY, lambda x, y: y)\n",
        "    return np.sum([(x_i-mean_X) * (y_j-mean_Y) * f_XY(x_i, y_j)\n",
        "                    for x_i in x_set for y_j in y_set])\n",
        "\n",
        "def f_X(x):\n",
        "    return np.sum([f_XY(x, y_k) for y_k in y_set])\n",
        "\n",
        "def f_Y(y):\n",
        "    return np.sum([f_XY(x_k, y) for x_k in x_set])"
      ],
      "execution_count": 2,
      "outputs": []
    },
    {
      "cell_type": "markdown",
      "metadata": {
        "id": "2o8MmPdVT5jx"
      },
      "source": [
        "# 09. 독립동일분포\n"
      ]
    },
    {
      "cell_type": "markdown",
      "metadata": {
        "id": "SUW-yFmMJct4"
      },
      "source": [
        "## 9.1 독립성"
      ]
    },
    {
      "cell_type": "markdown",
      "metadata": {
        "id": "KOD4V1WFJe8S"
      },
      "source": [
        "### 9.1.1 독립성의 정의\n",
        "**독립성(independence)** </br>\n",
        ": 2개 이상의 확률변수가 서로 영향을 끼치지 않으며 관계가 없음을 나타내는 개념</br>\n",
        "n개의 확률 변수 $X_1, X_2, ... ,X_n$ 이 다음을 만족할 때, $X_1, X_2, ... X_n$은 서로 **독립**이라고 한다.</br>\n",
        "$$f_{X_1, X_2, ... ,X_n} = f_{X_1}(x_1)f_{X_2}(x_2)...f_{X_n}(x_n)$$\n",
        "- 2차원 확률변수$(X,Y)$의 경우, 다음과 같은 관계가 성립할 때 X와 Y는 독립이다</br>\n",
        "$$f_{X,Y}(x,y) = f_X(x)f_Y(y)$$\n",
        "→ 즉, 확률변수가 독립 = 주변확률의 곱 = 곱연산 가능</br>\n"
      ]
    },
    {
      "cell_type": "markdown",
      "metadata": {
        "id": "KVqTQFi1LjWG"
      },
      "source": [
        "### 9.1.2 독립성과 무상관성\n",
        "**무상관성(Uncorrelatedness)**</br>\n",
        ": 공분산이나 상관계수가 0인 상태 = 선형관계가 없음</br>\n",
        "- Q. 독립성? 무상관성?  \n",
        "$\\quad$ 2개의 확률변수 X,Y가 독립 = X,Y는 무상관 **but** X,Y가 무상관일 때, X,Y가 반드시 독립은 아님"
      ]
    },
    {
      "cell_type": "code",
      "metadata": {
        "id": "IUIUtUUHUdiZ",
        "colab": {
          "base_uri": "https://localhost:8080/"
        },
        "outputId": "973f8f07-d054-4d74-c7f5-98af91fd4ba5"
      },
      "source": [
        "x_set = np.array([1, 2, 3, 4, 5, 6]) #2개의 주사위(독랍)\n",
        "y_set = np.array([1, 2, 3, 4, 5, 6])\n",
        "\n",
        "def f_XY(x, y): #2차원 확률 변수 관계 정의(곱)\n",
        "    if x in x_set and y in y_set:\n",
        "        return x * y / 441\n",
        "    else:\n",
        "        return 0\n",
        "    \n",
        "XY_i = [x_set, y_set, f_XY] #XY 계산\n",
        "Cov(XY_i) #XY의 공분산 = 0 즉, 무상관"
      ],
      "execution_count": 10,
      "outputs": [
        {
          "output_type": "execute_result",
          "data": {
            "text/plain": [
              "-0.000"
            ]
          },
          "metadata": {
            "tags": []
          },
          "execution_count": 10
        }
      ]
    },
    {
      "cell_type": "code",
      "metadata": {
        "colab": {
          "base_uri": "https://localhost:8080/"
        },
        "id": "2x5zJHxuOBK1",
        "outputId": "f8a0ff1f-2b97-40f9-a5bc-0b7164dbd4df"
      },
      "source": [
        "x_set = np.array([0, 1]) #2개의 set 정의\n",
        "y_set = np.array([-1, 0, 1])\n",
        "\n",
        "def f_XY(x, y):\n",
        "    if (x, y) in [(0, 0), (1, 1), (1, -1)]:\n",
        "        return 1 / 3 #2개의 결과 조합이 각각 확률이 1/3로 동일\n",
        "    else:\n",
        "        return 0 #위의 조합외에는 확률이 모두 0으로 동일\n",
        "    \n",
        "XY_c = [x_set, y_set, f_XY]\n",
        "Cov(XY_c) #XY의 공분산 = 0 즉, 무상관"
      ],
      "execution_count": 11,
      "outputs": [
        {
          "output_type": "execute_result",
          "data": {
            "text/plain": [
              "0.000"
            ]
          },
          "metadata": {
            "tags": []
          },
          "execution_count": 11
        }
      ]
    },
    {
      "cell_type": "code",
      "metadata": {
        "colab": {
          "base_uri": "https://localhost:8080/"
        },
        "id": "NZ3JVOhEPexp",
        "outputId": "f189df5d-ef78-43af-a2e9-562b8fe34f52"
      },
      "source": [
        "f_X(0) * f_Y(0), f_XY(0, 0) #두 함수의 곱과 2차원 확률변수의 결과값이 동일하지 않음 = 독립이 아님"
      ],
      "execution_count": 13,
      "outputs": [
        {
          "output_type": "execute_result",
          "data": {
            "text/plain": [
              "(0.111, 0.333)"
            ]
          },
          "metadata": {
            "tags": []
          },
          "execution_count": 13
        }
      ]
    },
    {
      "cell_type": "markdown",
      "metadata": {
        "id": "IvMJ-DH0Pucz"
      },
      "source": [
        "## 9.2 합의 분포"
      ]
    },
    {
      "cell_type": "code",
      "metadata": {
        "id": "L2MRYM38QXZc"
      },
      "source": [
        ""
      ],
      "execution_count": null,
      "outputs": []
    }
  ]
}