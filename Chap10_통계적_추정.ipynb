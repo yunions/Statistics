{
  "nbformat": 4,
  "nbformat_minor": 0,
  "metadata": {
    "colab": {
      "name": "Chap10.통계적_추정",
      "provenance": [],
      "collapsed_sections": [],
      "toc_visible": true,
      "authorship_tag": "ABX9TyN+RJr+DxHQggIhPEBw1Y3b",
      "include_colab_link": true
    },
    "kernelspec": {
      "name": "python3",
      "display_name": "Python 3"
    },
    "language_info": {
      "name": "python"
    }
  },
  "cells": [
    {
      "cell_type": "markdown",
      "metadata": {
        "id": "view-in-github",
        "colab_type": "text"
      },
      "source": [
        "<a href=\"https://colab.research.google.com/github/yunions/Statistics/blob/master/Chap10_%ED%86%B5%EA%B3%84%EC%A0%81_%EC%B6%94%EC%A0%95.ipynb\" target=\"_parent\"><img src=\"https://colab.research.google.com/assets/colab-badge.svg\" alt=\"Open In Colab\"/></a>"
      ]
    },
    {
      "cell_type": "code",
      "metadata": {
        "colab": {
          "base_uri": "https://localhost:8080/"
        },
        "id": "LQfZZXsoqWto",
        "outputId": "354ffb7d-6564-4e5c-a32d-dab1829ed922"
      },
      "source": [
        "! git clone https://github.com/yunions/Statistics.git"
      ],
      "execution_count": 1,
      "outputs": [
        {
          "output_type": "stream",
          "text": [
            "Cloning into 'Statistics'...\n",
            "remote: Enumerating objects: 78, done.\u001b[K\n",
            "remote: Counting objects: 100% (78/78), done.\u001b[K\n",
            "remote: Compressing objects: 100% (72/72), done.\u001b[K\n",
            "remote: Total 78 (delta 28), reused 31 (delta 4), pack-reused 0\u001b[K\n",
            "Unpacking objects: 100% (78/78), done.\n"
          ],
          "name": "stdout"
        }
      ]
    },
    {
      "cell_type": "code",
      "metadata": {
        "id": "ZRm8fOmCrIVo"
      },
      "source": [
        "import numpy as np\n",
        "import pandas as pd\n",
        "import matplotlib.pyplot as plt\n",
        "from scipy import stats\n",
        "\n",
        "%precision 3\n",
        "%matplotlib inline"
      ],
      "execution_count": 2,
      "outputs": []
    },
    {
      "cell_type": "markdown",
      "metadata": {
        "id": "1V9ApQe3rv5Z"
      },
      "source": [
        "# 10. 통계적 추정"
      ]
    },
    {
      "cell_type": "code",
      "metadata": {
        "id": "txgp_AyhrbZk"
      },
      "source": [
        "df = pd.read_csv('/content/Statistics/data/ch4_scores400.csv')\n",
        "scores = np.array(df['score'])"
      ],
      "execution_count": 3,
      "outputs": []
    },
    {
      "cell_type": "code",
      "metadata": {
        "colab": {
          "base_uri": "https://localhost:8080/"
        },
        "id": "I4PHHWcUrfsU",
        "outputId": "d36b845e-ab0f-4cb1-8d89-b613c5e3de84"
      },
      "source": [
        "p_mean = np.mean(scores)\n",
        "p_var = np.var(scores)\n",
        "#모평균, 모분산\n",
        "p_mean, p_var"
      ],
      "execution_count": 4,
      "outputs": [
        {
          "output_type": "execute_result",
          "data": {
            "text/plain": [
              "(69.530, 206.669)"
            ]
          },
          "metadata": {
            "tags": []
          },
          "execution_count": 4
        }
      ]
    },
    {
      "cell_type": "code",
      "metadata": {
        "colab": {
          "base_uri": "https://localhost:8080/",
          "height": 374
        },
        "id": "-SmSwOd_riDd",
        "outputId": "40215630-ac15-457a-df91-57d5d0b20492"
      },
      "source": [
        "fig = plt.figure(figsize=(10, 6))\n",
        "ax = fig.add_subplot(111)\n",
        "\n",
        "xs = np.arange(101)\n",
        "rv = stats.norm(p_mean, np.sqrt(p_var))\n",
        "ax.plot(xs, rv.pdf(xs), color='gray')\n",
        "ax.hist(scores, bins=100, range=(0, 100), density=True)\n",
        "\n",
        "plt.show()"
      ],
      "execution_count": 5,
      "outputs": [
        {
          "output_type": "display_data",
          "data": {
            "image/png": "[encoded data removed]",
            "text/plain": [
              "<Figure size 720x432 with 1 Axes>"
            ]
          },
          "metadata": {
            "tags": [],
            "needs_background": "light"
          }
        }
      ]
    },
    {
      "cell_type": "code",
      "metadata": {
        "colab": {
          "base_uri": "https://localhost:8080/"
        },
        "id": "3oaLyswdrpog",
        "outputId": "aa2ca08c-17c7-4d6f-e022-fe39a2a8eee9"
      },
      "source": [
        "np.random.seed(0)\n",
        "n = 20\n",
        "sample = np.random.choice(scores, n)\n",
        "sample"
      ],
      "execution_count": 6,
      "outputs": [
        {
          "output_type": "execute_result",
          "data": {
            "text/plain": [
              "array([49, 60, 72, 86, 52, 61, 77, 91, 80, 56, 69, 67, 90, 56, 75, 79, 60,\n",
              "       79, 68, 81])"
            ]
          },
          "metadata": {
            "tags": []
          },
          "execution_count": 6
        }
      ]
    },
    {
      "cell_type": "code",
      "metadata": {
        "id": "Bv5CAeh-rrvR"
      },
      "source": [
        "np.random.seed(1111)\n",
        "n_samples = 10000\n",
        "samples = np.random.choice(scores, (n_samples, n))"
      ],
      "execution_count": 7,
      "outputs": []
    },
    {
      "cell_type": "markdown",
      "metadata": {
        "id": "L--HYOQTrsw0"
      },
      "source": [
        "## 10.1 점추정\n",
        "**점추정**</br>\n",
        ": 모평균이나 모분산 등의 모수를 하나의 수치로 추정하는 것"
      ]
    },
    {
      "cell_type": "markdown",
      "metadata": {
        "id": "Fn5MZGmor1R4"
      },
      "source": [
        "### 10.1.1 모평균의 점추정"
      ]
    },
    {
      "cell_type": "code",
      "metadata": {
        "colab": {
          "base_uri": "https://localhost:8080/"
        },
        "id": "kkOnCv5hsiBr",
        "outputId": "906d0031-2aed-4900-bd09-37cf28614b25"
      },
      "source": [
        "for i in range(5):\n",
        "    s_mean = np.mean(samples[i])\n",
        "    print(f'{i+1}번째 표본평균: {s_mean:.3f}, 데이터 : {samples[i]}') #표본을 추출할 때마다, 표본평균은 달라짐"
      ],
      "execution_count": 8,
      "outputs": [
        {
          "output_type": "stream",
          "text": [
            "1번째 표본평균: 67.000, 데이터 : [68 75 91 60 76 70 59 56 77 54 77 60 67 86 70 54 52 72 57 59]\n",
            "2번째 표본평균: 72.850, 데이터 : [97 55 61 89 80 85 70 67 77 81 48 67 56 74 94 64 83 65 73 71]\n",
            "3번째 표본평균: 69.200, 데이터 : [78 67 43 63 79 46 89 79 86 85 70 57 55 63 49 83 83 76 62 71]\n",
            "4번째 표본평균: 64.450, 데이터 : [74 62 48 73 45 67 58 83 49 83 67 59 66 52 54 53 78 80 81 57]\n",
            "5번째 표본평균: 72.650, 데이터 : [63 83 67 75 74 73 77 78 66 86 82 67 78 54 65 92 64 91 61 57]\n"
          ],
          "name": "stdout"
        }
      ]
    },
    {
      "cell_type": "markdown",
      "metadata": {
        "id": "oDjzM9LTsj_4"
      },
      "source": [
        "*   추정량이 필요한 성질(1)\n",
        "\n",
        "**불편성(unbiasedness)** : 추정량의 기댓값이 추측하려는 모수가 되는 성질</br>\n",
        "**불편추정량(unbiased estimator)** : 불편성을 가진 추정량</br></br>"
      ]
    },
    {
      "cell_type": "code",
      "metadata": {
        "colab": {
          "base_uri": "https://localhost:8080/"
        },
        "id": "81r9-NDktXk8",
        "outputId": "ce7fa073-4b12-450b-dc22-99a0f1e24fcf"
      },
      "source": [
        "#bar X의 평균이 모평균인 것을 대수의 법칙을 통해 확인\n",
        "sample_means = np.mean(samples, axis=1)\n",
        "print(f'n = {len(samples[0])}인 {len(samples)}개의 샘플데이터의 표본평균 : {np.mean(sample_means) : .3f}',\n",
        "      f'\\n모평균 : {p_mean}')"
      ],
      "execution_count": 9,
      "outputs": [
        {
          "output_type": "stream",
          "text": [
            "n = 20인 10000개의 샘플데이터의 표본평균 :  69.538 \n",
            "모평균 : 69.53\n"
          ],
          "name": "stdout"
        }
      ]
    },
    {
      "cell_type": "markdown",
      "metadata": {
        "id": "rNOBcbfttk0t"
      },
      "source": [
        "*   추정량이 필요한 성질(2)\n",
        "\n",
        "**일치성(consistency)** : 표본크기 n을 증가시키면 추측하길 원하는 모수에 수렴하는 성징</br>\n",
        "**일치추정량(cosistent estimator)** : 일치성을 지닌 추정량"
      ]
    },
    {
      "cell_type": "code",
      "metadata": {
        "colab": {
          "base_uri": "https://localhost:8080/"
        },
        "id": "NrcoCvxku3ei",
        "outputId": "58153127-cff9-4d3d-9a6a-3f8bbc0744ba"
      },
      "source": [
        "np.mean(np.random.choice(scores, int(1e6))) #표본크기 n=1000000일 때, bar X"
      ],
      "execution_count": 10,
      "outputs": [
        {
          "output_type": "execute_result",
          "data": {
            "text/plain": [
              "69.543"
            ]
          },
          "metadata": {
            "tags": []
          },
          "execution_count": 10
        }
      ]
    },
    {
      "cell_type": "code",
      "metadata": {
        "colab": {
          "base_uri": "https://localhost:8080/"
        },
        "id": "UUxuzoaayUAq",
        "outputId": "09973e7c-87e9-41e3-a1ae-bde2d27587e6"
      },
      "source": [
        "s_mean = np.mean(sample)\n",
        "print(f'A학생이 뽑은 {sample} 의 평균 : {s_mean}')"
      ],
      "execution_count": 11,
      "outputs": [
        {
          "output_type": "stream",
          "text": [
            "A학생이 뽑은 [49 60 72 86 52 61 77 91 80 56 69 67 90 56 75 79 60 79 68 81] 의 평균 : 70.4\n"
          ],
          "name": "stdout"
        }
      ]
    },
    {
      "cell_type": "markdown",
      "metadata": {
        "id": "MkCxx4zavDS9"
      },
      "source": [
        "### 10.1.2 모분산의 점추정"
      ]
    },
    {
      "cell_type": "code",
      "metadata": {
        "colab": {
          "base_uri": "https://localhost:8080/"
        },
        "id": "iL1I7tKBvxJ2",
        "outputId": "ab077378-d17a-48d9-8d57-fb9e51a8a22d"
      },
      "source": [
        "for i in range(5):\n",
        "    s_var = np.var(samples[i])\n",
        "    print(f'{i+1}번째 표본평균: {s_var:.3f}, 데이터 : {samples[i]}')"
      ],
      "execution_count": 12,
      "outputs": [
        {
          "output_type": "stream",
          "text": [
            "1번째 표본평균: 116.800, 데이터 : [68 75 91 60 76 70 59 56 77 54 77 60 67 86 70 54 52 72 57 59]\n",
            "2번째 표본평균: 162.928, 데이터 : [97 55 61 89 80 85 70 67 77 81 48 67 56 74 94 64 83 65 73 71]\n",
            "3번째 표본평균: 187.060, 데이터 : [78 67 43 63 79 46 89 79 86 85 70 57 55 63 49 83 83 76 62 71]\n",
            "4번째 표본평균: 149.148, 데이터 : [74 62 48 73 45 67 58 83 49 83 67 59 66 52 54 53 78 80 81 57]\n",
            "5번째 표본평균: 111.528, 데이터 : [63 83 67 75 74 73 77 78 66 86 82 67 78 54 65 92 64 91 61 57]\n"
          ],
          "name": "stdout"
        }
      ]
    },
    {
      "cell_type": "code",
      "metadata": {
        "colab": {
          "base_uri": "https://localhost:8080/"
        },
        "id": "KizYwdiPv3NV",
        "outputId": "ceef715f-a13c-4982-c3b9-cda544442c78"
      },
      "source": [
        "#표본분산이 모분산이 되는지 대수의 법칙으로 확인\n",
        "sample_vars = np.var(samples, axis=1)\n",
        "print(f'n = {len(samples[0])}인 {len(samples)}개의 샘플데이터의 표본평균 : {np.mean(sample_vars) : .3f}',\n",
        "      f'\\n모평균 : {p_var}')"
      ],
      "execution_count": 13,
      "outputs": [
        {
          "output_type": "stream",
          "text": [
            "n = 20인 10000개의 샘플데이터의 표본평균 :  196.344 \n",
            "모평균 : 206.6691\n"
          ],
          "name": "stdout"
        }
      ]
    },
    {
      "cell_type": "markdown",
      "metadata": {
        "id": "akxbkP8PxIOF"
      },
      "source": [
        "*   모분산의 불편추정량\n",
        "\n",
        "**불편분산(unbiased variance)**\n",
        "$$s^2 = {1\\over {n-1}}\\sum_{i=1}^n(X_i - \\overline{X})^2$$"
      ]
    },
    {
      "cell_type": "code",
      "metadata": {
        "colab": {
          "base_uri": "https://localhost:8080/"
        },
        "id": "mDuqu7E6wQH-",
        "outputId": "03323dc2-bbcc-43b7-ec78-ca2da80c1f75"
      },
      "source": [
        "sample_u_vars = np.var(samples, axis=1, ddof=1) #자유도 n-1지정\n",
        "#sample_u_vars = np.var(np.random.choice(scores, int(1e6)), ddof=1) #n = 1000000으로 증가\n",
        "print(f'n = {len(samples[0])}인 {len(samples)}개의 샘플데이터의 표본평균 : {np.mean(sample_u_vars) : .3f}',\n",
        "      f'\\n모평균 : {p_var}')"
      ],
      "execution_count": 14,
      "outputs": [
        {
          "output_type": "stream",
          "text": [
            "n = 20인 10000개의 샘플데이터의 표본평균 :  206.678 \n",
            "모평균 : 206.6691\n"
          ],
          "name": "stdout"
        }
      ]
    },
    {
      "cell_type": "code",
      "metadata": {
        "colab": {
          "base_uri": "https://localhost:8080/"
        },
        "id": "2csh4gkUyfnE",
        "outputId": "83294ace-dd72-42ff-d3b5-f0663d4e0408"
      },
      "source": [
        "u_var = np.var(sample, ddof=1)\n",
        "print(f'A학생이 뽑은 {sample} 의 분산 : {u_var}')"
      ],
      "execution_count": 15,
      "outputs": [
        {
          "output_type": "stream",
          "text": [
            "A학생이 뽑은 [49 60 72 86 52 61 77 91 80 56 69 67 90 56 75 79 60 79 68 81] 의 분산 : 158.25263157894742\n"
          ],
          "name": "stdout"
        }
      ]
    },
    {
      "cell_type": "markdown",
      "metadata": {
        "id": "NW4XXu6D_8EB"
      },
      "source": [
        "## 10.2 구간추정"
      ]
    },
    {
      "cell_type": "markdown",
      "metadata": {
        "id": "bEAnUhbQAhPx"
      },
      "source": [
        "### 10.2.1 정규분포의 모평균 구간 추정 : 모분산을 알고 있는 경우\n",
        ": 모집단을 정규분포로 가정하고, 모분산을 알고 있는 경우</br>\n",
        "**표준오차(standard error)** : 추정량의 표준편차\n",
        "- CI : $X_1, X_2, ..., X_n\\;\\sim \\; N(\\mu,\\sigma^2)$일 때, 모분산 $\\sigma^2$를 알고있다면, 신뢰수준 $100(1-\\alpha)%$인 신뢰구간\n",
        "$$\\left[\\;\\overline{X} - z_{\\alpha/2}\\sqrt{\\sigma^2 \\over n},\\;\\; \\overline{X} - z_{1-\\alpha/2}\\sqrt{\\sigma^2 \\over n}\\;\\;\\right]$$"
      ]
    },
    {
      "cell_type": "code",
      "metadata": {
        "colab": {
          "base_uri": "https://localhost:8080/"
        },
        "id": "SB4OHj_2AoPd",
        "outputId": "ee500fc9-c72e-49bf-f19b-8a30f205c6c2"
      },
      "source": [
        "rv = stats.norm()\n",
        "lcl = s_mean - rv.isf(0.025) * np.sqrt(p_var/n) #lower confidence limit\n",
        "ucl = s_mean - rv.isf(0.975) * np.sqrt(p_var/n) #upper confidence limit\n",
        "\n",
        "lcl, ucl"
      ],
      "execution_count": 16,
      "outputs": [
        {
          "output_type": "execute_result",
          "data": {
            "text/plain": [
              "(64.100, 76.700)"
            ]
          },
          "metadata": {
            "tags": []
          },
          "execution_count": 16
        }
      ]
    },
    {
      "cell_type": "code",
      "metadata": {
        "colab": {
          "base_uri": "https://localhost:8080/",
          "height": 592
        },
        "id": "rC_W39IeAuwi",
        "outputId": "b90421d9-0c7d-4fcb-970f-a67cc129d038"
      },
      "source": [
        "fig = plt.figure(figsize=(10, 10))\n",
        "ax = fig.add_subplot(111)\n",
        "\n",
        "rv = stats.norm()\n",
        "n_samples = 20\n",
        "ax.vlines(p_mean, 0, 21)\n",
        "for i in range(n_samples):\n",
        "    sample_ = samples[i]\n",
        "    s_mean_ = np.mean(sample_)\n",
        "    lcl = s_mean_ - rv.isf(0.025) * np.sqrt(p_var/n)\n",
        "    ucl = s_mean_ - rv.isf(0.975) * np.sqrt(p_var/n)\n",
        "    if lcl <= p_mean <= ucl:\n",
        "        ax.scatter(s_mean_, n_samples-i, color='gray')\n",
        "        ax.hlines(n_samples-i, lcl, ucl, color='gray')\n",
        "    else: #CI 범위 밖인 경우\n",
        "        ax.scatter(s_mean_, n_samples-i, color='b')\n",
        "        ax.hlines(n_samples-i, lcl, ucl, color='b')\n",
        "ax.set_xticks([p_mean])\n",
        "ax.set_xticklabels(['population mean'])\n",
        "\n",
        "plt.show()"
      ],
      "execution_count": 17,
      "outputs": [
        {
          "output_type": "display_data",
          "data": {
            "image/png": "[encoded data removed]",
            "text/plain": [
              "<Figure size 720x720 with 1 Axes>"
            ]
          },
          "metadata": {
            "tags": [],
            "needs_background": "light"
          }
        }
      ]
    },
    {
      "cell_type": "code",
      "metadata": {
        "colab": {
          "base_uri": "https://localhost:8080/"
        },
        "id": "4ixgCihbAw79",
        "outputId": "295aed5f-3768-410b-f0f6-c9a7e1e25a78"
      },
      "source": [
        "rv = stats.norm()\n",
        "cnt = 0\n",
        "\n",
        "for sample_ in samples:\n",
        "    s_mean_ = np.mean(sample_)\n",
        "    lcl = s_mean_ - rv.isf(0.025) * np.sqrt(p_var/n) # rv.is(0.025)f = 2.5%가 되는 z값\n",
        "    ucl = s_mean_ - rv.isf(0.975) * np.sqrt(p_var/n)\n",
        "    if lcl <= p_mean <= ucl:\n",
        "        cnt += 1\n",
        "cnt / len(samples) #95.1%가 신뢰구간 안에 있음"
      ],
      "execution_count": 18,
      "outputs": [
        {
          "output_type": "execute_result",
          "data": {
            "text/plain": [
              "0.951"
            ]
          },
          "metadata": {
            "tags": []
          },
          "execution_count": 18
        }
      ]
    },
    {
      "cell_type": "markdown",
      "metadata": {
        "id": "sqnD-Q1gA1Ei"
      },
      "source": [
        "### 10.2.2 정규분포의 모분산(평균을 알지 못하는) 구간추정\n",
        "모분산의 구간 추정 = $P(* \\le \\sigma^2 \\le *) = 0.95$ → 분산의 추정 = 카이제곱</br>\n",
        "불편분산 $s^2$을 변환\n",
        "$$Y = {(n-1)s^2 \\over \\sigma^2}, \\qquad Y \\sim \\chi^2(n-1)$$\n",
        "- CI : $X_1, X_2, ..., X_n\\;\\sim \\; N(\\mu,\\sigma^2)$일 때, 모평균이 알려져 있지 않을 때, $100(1-\\alpha)%$의 신뢰구간\n",
        "$$\\left[\\;\\;{(n-1)\\sigma^2 \\over \\chi^2_{\\alpha/2}(n-1)},\\;\\; {(n-1)\\sigma^2 \\over \\chi^2_{1-\\alpha/2}(n-1)}\\;\\;\\right]$$"
      ]
    },
    {
      "cell_type": "code",
      "metadata": {
        "colab": {
          "base_uri": "https://localhost:8080/"
        },
        "id": "CaM9phAYA6Yb",
        "outputId": "9f63fac5-4cb2-4532-9ae1-540323fbfebc"
      },
      "source": [
        "sample_y = sample_u_vars * (n-1) / p_var\n",
        "sample_y"
      ],
      "execution_count": 19,
      "outputs": [
        {
          "output_type": "execute_result",
          "data": {
            "text/plain": [
              "array([11.303, 15.767, 18.102, ..., 19.435,  9.265, 18.625])"
            ]
          },
          "metadata": {
            "tags": []
          },
          "execution_count": 19
        }
      ]
    },
    {
      "cell_type": "code",
      "metadata": {
        "colab": {
          "base_uri": "https://localhost:8080/",
          "height": 374
        },
        "id": "OUC1rkk_A7rX",
        "outputId": "1c8b7c40-2969-4f17-bdd5-15302a512dc9"
      },
      "source": [
        "fig = plt.figure(figsize=(10, 6))\n",
        "ax = fig.add_subplot(111)\n",
        "\n",
        "xs = np.linspace(0, 40, 100)\n",
        "rv = stats.chi2(df=n-1)\n",
        "ax.plot(xs, rv.pdf(xs), color='gray')\n",
        "hist, _, _ = ax.hist(sample_y, bins=100,\n",
        "                     range=(0, 40), density=True)\n",
        "\n",
        "plt.show()"
      ],
      "execution_count": 20,
      "outputs": [
        {
          "output_type": "display_data",
          "data": {
            "image/png": "[encoded data removed]",
            "text/plain": [
              "<Figure size 720x432 with 1 Axes>"
            ]
          },
          "metadata": {
            "tags": [],
            "needs_background": "light"
          }
        }
      ]
    },
    {
      "cell_type": "code",
      "metadata": {
        "colab": {
          "base_uri": "https://localhost:8080/"
        },
        "id": "Lrjt3wjlA8wm",
        "outputId": "7f90205f-9b6b-4bce-ece9-50a978eb634f"
      },
      "source": [
        "rv = stats.chi2(df=n-1)\n",
        "lcl = (n-1) * u_var / rv.isf(0.025)\n",
        "hcl = (n-1) * u_var / rv.isf(0.975)\n",
        "\n",
        "lcl, hcl"
      ],
      "execution_count": 21,
      "outputs": [
        {
          "output_type": "execute_result",
          "data": {
            "text/plain": [
              "(91.525, 337.596)"
            ]
          },
          "metadata": {
            "tags": []
          },
          "execution_count": 21
        }
      ]
    },
    {
      "cell_type": "code",
      "metadata": {
        "colab": {
          "base_uri": "https://localhost:8080/",
          "height": 592
        },
        "id": "OtOL53J8BA1F",
        "outputId": "da73d4e3-0d1e-4453-a123-e927a98928c0"
      },
      "source": [
        "fig = plt.figure(figsize=(10, 10))\n",
        "ax = fig.add_subplot(111)\n",
        "\n",
        "rv = stats.chi2(df=n-1)\n",
        "n_samples = 20\n",
        "ax.vlines(p_var, 0, 21)\n",
        "for i in range(n_samples):\n",
        "    sample_ = samples[i]\n",
        "    u_var_ = np.var(sample_, ddof=1)\n",
        "    lcl = (n-1) * u_var_ / rv.isf(0.025)\n",
        "    ucl = (n-1) * u_var_ / rv.isf(0.975)\n",
        "    if lcl <= p_var <= ucl:\n",
        "        ax.scatter(u_var_, n_samples-i, color='gray')\n",
        "        ax.hlines(n_samples-i, lcl, ucl, 'gray')\n",
        "    else:\n",
        "        ax.scatter(u_var_, n_samples-i, color='b')\n",
        "        ax.hlines(n_samples-i, lcl, ucl, 'b')\n",
        "ax.set_xticks([p_var])\n",
        "ax.set_xticklabels(['population variance'])\n",
        "\n",
        "plt.show()"
      ],
      "execution_count": 22,
      "outputs": [
        {
          "output_type": "display_data",
          "data": {
            "image/png": "[encoded data removed]",
            "text/plain": [
              "<Figure size 720x720 with 1 Axes>"
            ]
          },
          "metadata": {
            "tags": [],
            "needs_background": "light"
          }
        }
      ]
    },
    {
      "cell_type": "code",
      "metadata": {
        "colab": {
          "base_uri": "https://localhost:8080/"
        },
        "id": "Sm8CRq0lAYrj",
        "outputId": "0fd7c89d-5c2c-4bcb-aaad-c46e44ab109b"
      },
      "source": [
        "rv = stats.chi2(df=n-1)\n",
        "cnt = 0\n",
        "for sample_ in samples:\n",
        "    u_var_ = np.var(sample_, ddof=1)\n",
        "    lcl = (n-1) * u_var_ / rv.isf(0.025)\n",
        "    ucl = (n-1) * u_var_ / rv.isf(0.975)\n",
        "    if lcl <= p_var <= ucl:\n",
        "        cnt += 1\n",
        "        \n",
        "cnt / len(samples)"
      ],
      "execution_count": 23,
      "outputs": [
        {
          "output_type": "execute_result",
          "data": {
            "text/plain": [
              "0.964"
            ]
          },
          "metadata": {
            "tags": []
          },
          "execution_count": 23
        }
      ]
    },
    {
      "cell_type": "markdown",
      "metadata": {
        "id": "a_2bt9wvAaYA"
      },
      "source": [
        "### 10.2.3 정규분포의 모평균(모분산을 알지 못하는) 구간추정"
      ]
    },
    {
      "cell_type": "code",
      "metadata": {
        "colab": {
          "base_uri": "https://localhost:8080/"
        },
        "id": "2R_XTL4dAfKX",
        "outputId": "36c9857f-a6b7-4851-8981-cdc910cda63b"
      },
      "source": [
        "rv = stats.t(df=n-1)\n",
        "lcl = s_mean - rv.isf(0.025) * np.sqrt(u_var/n)\n",
        "ucl = s_mean - rv.isf(0.975) * np.sqrt(u_var/n)\n",
        "\n",
        "lcl, ucl"
      ],
      "execution_count": 24,
      "outputs": [
        {
          "output_type": "execute_result",
          "data": {
            "text/plain": [
              "(64.512, 76.288)"
            ]
          },
          "metadata": {
            "tags": []
          },
          "execution_count": 24
        }
      ]
    },
    {
      "cell_type": "markdown",
      "metadata": {
        "id": "f1xtIMRJAukm"
      },
      "source": [
        "### 10.2.4 베르누이 분포의 모평균의 구간추정"
      ]
    },
    {
      "cell_type": "code",
      "metadata": {
        "colab": {
          "base_uri": "https://localhost:8080/"
        },
        "id": "Ebj_CXMmAlTg",
        "outputId": "4f54faca-7b4b-4a09-bfa2-8b5a390ff67f"
      },
      "source": [
        "enquete_df = pd.read_csv('/content/Statistics/data/ch10_enquete.csv')\n",
        "enquete = np.array(enquete_df['known'])\n",
        "n = len(enquete)\n",
        "enquete[:10]"
      ],
      "execution_count": 25,
      "outputs": [
        {
          "output_type": "execute_result",
          "data": {
            "text/plain": [
              "array([1, 0, 1, 1, 1, 1, 1, 0, 0, 1])"
            ]
          },
          "metadata": {
            "tags": []
          },
          "execution_count": 25
        }
      ]
    },
    {
      "cell_type": "code",
      "metadata": {
        "colab": {
          "base_uri": "https://localhost:8080/"
        },
        "id": "7K9XdZl_At-2",
        "outputId": "5abfbce7-cce2-431c-dee1-c4795285e5e5"
      },
      "source": [
        "s_mean = enquete.mean()\n",
        "s_mean"
      ],
      "execution_count": 26,
      "outputs": [
        {
          "output_type": "execute_result",
          "data": {
            "text/plain": [
              "0.709"
            ]
          },
          "metadata": {
            "tags": []
          },
          "execution_count": 26
        }
      ]
    },
    {
      "cell_type": "code",
      "metadata": {
        "colab": {
          "base_uri": "https://localhost:8080/"
        },
        "id": "-4gsdUyZAz6K",
        "outputId": "b9f78d07-4bef-4022-ec05-be184441db18"
      },
      "source": [
        "rv = stats.norm()\n",
        "lcl = s_mean - rv.isf(0.025) * np.sqrt(s_mean*(1-s_mean)/n)\n",
        "ucl = s_mean - rv.isf(0.975) * np.sqrt(s_mean*(1-s_mean)/n)\n",
        "\n",
        "lcl, ucl"
      ],
      "execution_count": 27,
      "outputs": [
        {
          "output_type": "execute_result",
          "data": {
            "text/plain": [
              "(0.681, 0.737)"
            ]
          },
          "metadata": {
            "tags": []
          },
          "execution_count": 27
        }
      ]
    },
    {
      "cell_type": "markdown",
      "metadata": {
        "id": "hGTt7yTIA0vr"
      },
      "source": [
        "###10.2.5 포아송 분포의 모평균의 구간추정"
      ]
    },
    {
      "cell_type": "code",
      "metadata": {
        "colab": {
          "base_uri": "https://localhost:8080/"
        },
        "id": "tzT395eQA5re",
        "outputId": "caa8c7c4-cc1f-4908-de84-9bfc9c09de5d"
      },
      "source": [
        "n_access_df = pd.read_csv('/content/Statistics/data/ch10_access.csv')\n",
        "n_access = np.array(n_access_df['access number'])\n",
        "n = len(n_access)\n",
        "n_access[:10]"
      ],
      "execution_count": 28,
      "outputs": [
        {
          "output_type": "execute_result",
          "data": {
            "text/plain": [
              "array([10, 11,  9,  9, 18, 13,  4, 10, 10,  8])"
            ]
          },
          "metadata": {
            "tags": []
          },
          "execution_count": 28
        }
      ]
    },
    {
      "cell_type": "code",
      "metadata": {
        "colab": {
          "base_uri": "https://localhost:8080/"
        },
        "id": "FaAltpF8BBRU",
        "outputId": "50db3553-96a8-4587-87b6-bb67551f2ac8"
      },
      "source": [
        "s_mean = n_access.mean()\n",
        "s_mean"
      ],
      "execution_count": 29,
      "outputs": [
        {
          "output_type": "execute_result",
          "data": {
            "text/plain": [
              "10.444"
            ]
          },
          "metadata": {
            "tags": []
          },
          "execution_count": 29
        }
      ]
    },
    {
      "cell_type": "code",
      "metadata": {
        "colab": {
          "base_uri": "https://localhost:8080/"
        },
        "id": "qMQOr8SFBCJD",
        "outputId": "9868016e-20cd-4621-c1ec-aba65d31745b"
      },
      "source": [
        "rv = stats.norm()\n",
        "lcl = s_mean - rv.isf(0.025) * np.sqrt(s_mean/n)\n",
        "ucl = s_mean - rv.isf(0.975) * np.sqrt(s_mean/n)\n",
        "\n",
        "lcl, ucl"
      ],
      "execution_count": 30,
      "outputs": [
        {
          "output_type": "execute_result",
          "data": {
            "text/plain": [
              "(9.698, 11.191)"
            ]
          },
          "metadata": {
            "tags": []
          },
          "execution_count": 30
        }
      ]
    },
    {
      "cell_type": "markdown",
      "metadata": {
        "id": "DbqzJv55epyx"
      },
      "source": [
        "<img src ='https://github.com/yunions/Statistics/blob/master/image/confidence_interval.PNG?raw=true'>"
      ]
    },
    {
      "cell_type": "code",
      "metadata": {
        "id": "deIBE_OWesjU"
      },
      "source": [
        ""
      ],
      "execution_count": null,
      "outputs": []
    }
  ]
}