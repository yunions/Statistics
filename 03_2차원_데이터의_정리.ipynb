{
  "nbformat": 4,
  "nbformat_minor": 0,
  "metadata": {
    "colab": {
      "name": "03. 2차원 데이터의 정리",
      "provenance": [],
      "authorship_tag": "ABX9TyOMAsSSRenxd0sepoSIeWZY",
      "include_colab_link": true
    },
    "kernelspec": {
      "name": "python3",
      "display_name": "Python 3"
    },
    "language_info": {
      "name": "python"
    }
  },
  "cells": [
    {
      "cell_type": "markdown",
      "metadata": {
        "id": "view-in-github",
        "colab_type": "text"
      },
      "source": [
        "<a href=\"https://colab.research.google.com/github/yunions/Statistics/blob/master/03_2%EC%B0%A8%EC%9B%90_%EB%8D%B0%EC%9D%B4%ED%84%B0%EC%9D%98_%EC%A0%95%EB%A6%AC.ipynb\" target=\"_parent\"><img src=\"https://colab.research.google.com/assets/colab-badge.svg\" alt=\"Open In Colab\"/></a>"
      ]
    },
    {
      "cell_type": "markdown",
      "metadata": {
        "id": "5KLeHjog9WhT"
      },
      "source": [
        "# 03. 2차원 데이터의 정리"
      ]
    },
    {
      "cell_type": "markdown",
      "metadata": {
        "id": "gjXjpTU8_rsN"
      },
      "source": [
        "## (3) 앤스컴의 예  \n",
        "동일해 보이는 지표를 가진 데이터라도 시각화 후 전혀 다른 데이터임을 확인할 수 있음"
      ]
    },
    {
      "cell_type": "code",
      "metadata": {
        "id": "_Sk7kYtm9V7G"
      },
      "source": [
        ""
      ],
      "execution_count": null,
      "outputs": []
    }
  ]
}