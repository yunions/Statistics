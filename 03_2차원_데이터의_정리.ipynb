{
  "nbformat": 4,
  "nbformat_minor": 0,
  "metadata": {
    "colab": {
      "name": "03. 2차원 데이터의 정리",
      "provenance": [],
      "authorship_tag": "ABX9TyNkcaqSxdHB6r2bUx9UC+0m",
      "include_colab_link": true
    },
    "kernelspec": {
      "name": "python3",
      "display_name": "Python 3"
    },
    "language_info": {
      "name": "python"
    }
  },
  "cells": [
    {
      "cell_type": "markdown",
      "metadata": {
        "id": "view-in-github",
        "colab_type": "text"
      },
      "source": [
        "<a href=\"https://colab.research.google.com/github/yunions/Statistics/blob/master/03_2%EC%B0%A8%EC%9B%90_%EB%8D%B0%EC%9D%B4%ED%84%B0%EC%9D%98_%EC%A0%95%EB%A6%AC.ipynb\" target=\"_parent\"><img src=\"https://colab.research.google.com/assets/colab-badge.svg\" alt=\"Open In Colab\"/></a>"
      ]
    },
    {
      "cell_type": "code",
      "metadata": {
        "colab": {
          "base_uri": "https://localhost:8080/"
        },
        "id": "i57z_ebiEG-R",
        "outputId": "30862977-42af-4349-a2d7-516b70c8ce0b"
      },
      "source": [
        "! git clone https://github.com/yunions/Statistics.git"
      ],
      "execution_count": 1,
      "outputs": [
        {
          "output_type": "stream",
          "text": [
            "Cloning into 'Statistics'...\n",
            "remote: Enumerating objects: 22, done.\u001b[K\n",
            "remote: Counting objects: 100% (22/22), done.\u001b[K\n",
            "remote: Compressing objects: 100% (21/21), done.\u001b[K\n",
            "remote: Total 22 (delta 2), reused 17 (delta 0), pack-reused 0\u001b[K\n",
            "Unpacking objects: 100% (22/22), done.\n"
          ],
          "name": "stdout"
        }
      ]
    },
    {
      "cell_type": "markdown",
      "metadata": {
        "id": "5KLeHjog9WhT"
      },
      "source": [
        "# 03. 2차원 데이터의 정리"
      ]
    },
    {
      "cell_type": "code",
      "metadata": {
        "id": "BDOqwIsNEndB"
      },
      "source": [
        "import numpy as np\n",
        "import pandas as pd\n",
        "import matplotlib.pyplot as plt"
      ],
      "execution_count": 17,
      "outputs": []
    },
    {
      "cell_type": "markdown",
      "metadata": {
        "id": "gjXjpTU8_rsN"
      },
      "source": [
        "## (3) 앤스컴의 예  \n",
        "동일해 보이는 지표를 가진 데이터라도 시각화 후 전혀 다른 데이터임을 확인할 수 있음  \n",
        "**시각화의 중요성과 특이치 및 주영향관측값의 영향**을 보여주는 대표적인 예"
      ]
    },
    {
      "cell_type": "code",
      "metadata": {
        "id": "_Sk7kYtm9V7G",
        "colab": {
          "base_uri": "https://localhost:8080/"
        },
        "outputId": "54babd17-482b-4000-d747-615696171400"
      },
      "source": [
        "# npy 형식으로 저장된 NumPy array를 읽어들인다\n",
        "anscombe_data = np.load('/content/Statistics/data/ch3_anscombe.npy') #load 는 .npy나 .npz 형식의 파일을 읽는 코드이다.\n",
        "print(anscombe_data.shape) #데이터가 네가지 들어있고, 각각11개의 2차원 데이터다."
      ],
      "execution_count": 4,
      "outputs": [
        {
          "output_type": "stream",
          "text": [
            "(4, 11, 2)\n"
          ],
          "name": "stdout"
        }
      ]
    },
    {
      "cell_type": "code",
      "metadata": {
        "colab": {
          "base_uri": "https://localhost:8080/"
        },
        "id": "S_yeNIyAEmHQ",
        "outputId": "4691e1d8-3aaa-4895-fd3a-1036dda99804"
      },
      "source": [
        "anscombe_data"
      ],
      "execution_count": 5,
      "outputs": [
        {
          "output_type": "execute_result",
          "data": {
            "text/plain": [
              "array([[[10.  ,  8.04],\n",
              "        [ 8.  ,  6.95],\n",
              "        [13.  ,  7.58],\n",
              "        [ 9.  ,  8.81],\n",
              "        [11.  ,  8.33],\n",
              "        [14.  ,  9.96],\n",
              "        [ 6.  ,  7.24],\n",
              "        [ 4.  ,  4.26],\n",
              "        [12.  , 10.84],\n",
              "        [ 7.  ,  4.82],\n",
              "        [ 5.  ,  5.68]],\n",
              "\n",
              "       [[10.  ,  9.14],\n",
              "        [ 8.  ,  8.14],\n",
              "        [13.  ,  8.74],\n",
              "        [ 9.  ,  8.77],\n",
              "        [11.  ,  9.26],\n",
              "        [14.  ,  8.1 ],\n",
              "        [ 6.  ,  6.13],\n",
              "        [ 4.  ,  3.1 ],\n",
              "        [12.  ,  9.13],\n",
              "        [ 7.  ,  7.26],\n",
              "        [ 5.  ,  4.74]],\n",
              "\n",
              "       [[10.  ,  7.46],\n",
              "        [ 8.  ,  6.77],\n",
              "        [13.  , 12.74],\n",
              "        [ 9.  ,  7.11],\n",
              "        [11.  ,  7.81],\n",
              "        [14.  ,  8.84],\n",
              "        [ 6.  ,  6.08],\n",
              "        [ 4.  ,  5.39],\n",
              "        [12.  ,  8.15],\n",
              "        [ 7.  ,  6.42],\n",
              "        [ 5.  ,  5.73]],\n",
              "\n",
              "       [[ 8.  ,  6.58],\n",
              "        [ 8.  ,  5.76],\n",
              "        [ 8.  ,  7.71],\n",
              "        [ 8.  ,  8.84],\n",
              "        [ 8.  ,  8.47],\n",
              "        [ 8.  ,  7.04],\n",
              "        [ 8.  ,  5.25],\n",
              "        [19.  , 12.5 ],\n",
              "        [ 8.  ,  5.56],\n",
              "        [ 8.  ,  7.91],\n",
              "        [ 8.  ,  6.89]]])"
            ]
          },
          "metadata": {
            "tags": []
          },
          "execution_count": 5
        }
      ]
    },
    {
      "cell_type": "code",
      "metadata": {
        "colab": {
          "base_uri": "https://localhost:8080/",
          "height": 235
        },
        "id": "DGJbfVd7Esz0",
        "outputId": "823364b1-453d-4d14-9cd5-d8cbb0ee40f7"
      },
      "source": [
        "#4개의 데이터의 평균, 분산, 상관계수, 회귀직선 계산\n",
        "stats_df = pd.DataFrame(index=['X_mean', 'X_variance', 'Y_mean',\n",
        "                               'Y_variance', 'X&Y_correlation',\n",
        "                               'X&Y_regression line'])\n",
        "\n",
        "for i, data in enumerate(anscombe_data): # 각 데이터셋을 순서대로 튜플로 전환(ex. 0번째 ndarray -> 데이터 튜플로 전환)\n",
        "    dataX = data[:, 0] #모든 튜블의 0번자리 값\n",
        "    dataY = data[:, 1] #모든 튜블의 1번자리 값\n",
        "    #print(i, data, dataX, dataY)\n",
        "    poly_fit = np.polyfit(dataX, dataY, 1) #0번자리와 1번자리 좌표 기준으로 1차식 직선 계산(회귀식) -> araay형식으로 데이터 저장\n",
        "    #print(poly_fit)\n",
        "    stats_df[f'data{i+1}'] =\\\n",
        "        [f'{np.mean(dataX):.2f}',\n",
        "         f'{np.var(dataX):.2f}',\n",
        "         f'{np.mean(dataY):.2f}',\n",
        "         f'{np.var(dataY):.2f}',\n",
        "         f'{np.corrcoef(dataX, dataY)[0, 1]:.2f}',\n",
        "         f'{poly_fit[0]:.2f}x+{poly_fit[1]:.2f}']\n",
        "stats_df"
      ],
      "execution_count": 16,
      "outputs": [
        {
          "output_type": "execute_result",
          "data": {
            "text/html": [
              "<div>\n",
              "<style scoped>\n",
              "    .dataframe tbody tr th:only-of-type {\n",
              "        vertical-align: middle;\n",
              "    }\n",
              "\n",
              "    .dataframe tbody tr th {\n",
              "        vertical-align: top;\n",
              "    }\n",
              "\n",
              "    .dataframe thead th {\n",
              "        text-align: right;\n",
              "    }\n",
              "</style>\n",
              "<table border=\"1\" class=\"dataframe\">\n",
              "  <thead>\n",
              "    <tr style=\"text-align: right;\">\n",
              "      <th></th>\n",
              "      <th>data1</th>\n",
              "      <th>data2</th>\n",
              "      <th>data3</th>\n",
              "      <th>data4</th>\n",
              "    </tr>\n",
              "  </thead>\n",
              "  <tbody>\n",
              "    <tr>\n",
              "      <th>X_mean</th>\n",
              "      <td>9.00</td>\n",
              "      <td>9.00</td>\n",
              "      <td>9.00</td>\n",
              "      <td>9.00</td>\n",
              "    </tr>\n",
              "    <tr>\n",
              "      <th>X_variance</th>\n",
              "      <td>10.00</td>\n",
              "      <td>10.00</td>\n",
              "      <td>10.00</td>\n",
              "      <td>10.00</td>\n",
              "    </tr>\n",
              "    <tr>\n",
              "      <th>Y_mean</th>\n",
              "      <td>7.50</td>\n",
              "      <td>7.50</td>\n",
              "      <td>7.50</td>\n",
              "      <td>7.50</td>\n",
              "    </tr>\n",
              "    <tr>\n",
              "      <th>Y_variance</th>\n",
              "      <td>3.75</td>\n",
              "      <td>3.75</td>\n",
              "      <td>3.75</td>\n",
              "      <td>3.75</td>\n",
              "    </tr>\n",
              "    <tr>\n",
              "      <th>X&amp;Y_correlation</th>\n",
              "      <td>0.82</td>\n",
              "      <td>0.82</td>\n",
              "      <td>0.82</td>\n",
              "      <td>0.82</td>\n",
              "    </tr>\n",
              "    <tr>\n",
              "      <th>X&amp;Y_regression line</th>\n",
              "      <td>0.50x+3.00</td>\n",
              "      <td>0.50x+3.00</td>\n",
              "      <td>0.50x+3.00</td>\n",
              "      <td>0.50x+3.00</td>\n",
              "    </tr>\n",
              "  </tbody>\n",
              "</table>\n",
              "</div>"
            ],
            "text/plain": [
              "                          data1       data2       data3       data4\n",
              "X_mean                     9.00        9.00        9.00        9.00\n",
              "X_variance                10.00       10.00       10.00       10.00\n",
              "Y_mean                     7.50        7.50        7.50        7.50\n",
              "Y_variance                 3.75        3.75        3.75        3.75\n",
              "X&Y_correlation            0.82        0.82        0.82        0.82\n",
              "X&Y_regression line  0.50x+3.00  0.50x+3.00  0.50x+3.00  0.50x+3.00"
            ]
          },
          "metadata": {
            "tags": []
          },
          "execution_count": 16
        }
      ]
    },
    {
      "cell_type": "markdown",
      "metadata": {
        "id": "_umxCSrPFciW"
      },
      "source": [
        "위의 결과에 따라서 4개의 data셋의 지표가 모두 동일함을 확인할 수 있다"
      ]
    },
    {
      "cell_type": "code",
      "metadata": {
        "colab": {
          "base_uri": "https://localhost:8080/",
          "height": 873
        },
        "id": "1G1OHAVwFtbm",
        "outputId": "badc5270-0fdb-453e-e144-39e6275fb5bf"
      },
      "source": [
        "# 그래프를 그리기 위한 영역을 2x2개 생성\n",
        "fig, axes = plt.subplots(nrows=2, ncols=2, figsize=(10, 10),\n",
        "                         sharex=True, sharey=True)\n",
        "\n",
        "xs = np.linspace(0, 30, 100)\n",
        "\n",
        "for i, data in enumerate(anscombe_data):\n",
        "    poly_fit = np.polyfit(data[:,0], data[:,1], 1) #회귀직선 계산\n",
        "    poly_1d = np.poly1d(poly_fit) #array값으로 함수(function) 생성\n",
        "    print(poly_1d)\n",
        "    ys = poly_1d(xs) #x값(xs)으로 y값(ys) 계산\n",
        "    # 그리는 영역을 선택\n",
        "    ax = axes[i//2, i%2]\n",
        "    ax.set_xlim([4, 20])\n",
        "    ax.set_ylim([3, 13])\n",
        "    # 타이틀을 부여\n",
        "    ax.set_title(f'data{i+1}')\n",
        "    ax.scatter(data[:,0], data[:,1])\n",
        "    ax.plot(xs, ys, color='gray')\n",
        "\n",
        "# 그래프 사이의 간격을 좁힘\n",
        "plt.tight_layout()\n",
        "plt.show()"
      ],
      "execution_count": 30,
      "outputs": [
        {
          "output_type": "stream",
          "text": [
            " \n",
            "0.5001 x + 3\n",
            " \n",
            "0.5 x + 3.001\n",
            " \n",
            "0.4997 x + 3.002\n",
            " \n",
            "0.4999 x + 3.002\n"
          ],
          "name": "stdout"
        },
        {
          "output_type": "display_data",
          "data": {
            "image/png": "[encoded data removed]",
            "text/plain": [
              "<Figure size 720x720 with 4 Axes>"
            ]
          },
          "metadata": {
            "tags": [],
            "needs_background": "light"
          }
        }
      ]
    },
    {
      "cell_type": "code",
      "metadata": {
        "id": "bosB1oGNI8v7"
      },
      "source": [
        ""
      ],
      "execution_count": null,
      "outputs": []
    }
  ]
}